{
 "cells": [
  {
   "cell_type": "markdown",
   "id": "1a3b36cf-6665-41c0-a5f7-03fd13e9a97b",
   "metadata": {},
   "source": [
    "## 문제 설명\n",
    "- 어느 학교에 페인트가 칠해진 길이가 `n`미터인 벽이 있습니다. 벽에 동아리 · 학회 홍보나 회사 채용 공고 포스터 등을 게시하기 위해 테이프로 붙였다가 철거할 때 떼는 일이 많고 그 과정에서 페인트가 벗겨지곤 합니다. 페인트가 벗겨진 벽이 보기 흉해져 학교는 벽에 페인트를 덧칠하기로 했습니다.\n",
    "\n",
    "- 넓은 벽 전체에 페인트를 새로 칠하는 대신, 구역을 나누어 일부만 페인트를 새로 칠 함으로써 예산을 아끼려 합니다. 이를 위해 벽을 1미터 길이의 구역 `n`개로 나누고, 각 구역에 왼쪽부터 순서대로 1번부터 `n`번까지 번호를 붙였습니다. 그리고 페인트를 다시 칠해야 할 구역들을 정했습니다.\n",
    "\n",
    "- 벽에 페인트를 칠하는 롤러의 길이는 `m`미터이고, 롤러로 벽에 페인트를 한 번 칠하는 규칙은 다음과 같습니다.\n",
    "\n",
    "    - 롤러가 벽에서 벗어나면 안 됩니다.\n",
    "    - 구역의 일부분만 포함되도록 칠하면 안 됩니다.\n",
    "- 즉, 롤러의 좌우측 끝을 구역의 경계선 혹은 벽의 좌우측 끝부분에 맞춘 후 롤러를 위아래로 움직이면서 벽을 칠합니다. 현재 페인트를 칠하는 구역들을 완전히 칠한 후 벽에서 롤러를 떼며, 이를 벽을 한 번 칠했다고 정의합니다.\n",
    "\n",
    "- 한 구역에 페인트를 여러 번 칠해도 되고 다시 칠해야 할 구역이 아닌 곳에 페인트를 칠해도 되지만 다시 칠하기로 정한 구역은 적어도 한 번 페인트칠을 해야 합니다. 예산을 아끼기 위해 다시 칠할 구역을 정했듯 마찬가지로 롤러로 페인트칠을 하는 횟수를 최소화하려고 합니다.\n",
    "\n",
    "- 정수 `n`, `m`과 다시 페인트를 칠하기로 정한 구역들의 번호가 담긴 정수 배열 `section`이 매개변수로 주어질 때 롤러로 페인트칠해야 하는 최소 횟수를 return 하는 solution 함수를 작성해 주세요."
   ]
  },
  {
   "attachments": {
    "0c402791-7c5c-4b70-9182-4bc8d1170928.png": {
     "image/png": "[encoded data removed]"
    }
   },
   "cell_type": "markdown",
   "id": "6320d787-88cf-49c4-8aa2-0c2a805b2adb",
   "metadata": {},
   "source": [
    "## 제한사항\n",
    "- 1 ≤ m ≤ n ≤ 100,000\n",
    "- 1 ≤ section의 길이 ≤ n\n",
    "- 1 ≤ section의 원소 ≤ n\n",
    "    - section의 원소는 페인트를 다시 칠해야 하는 구역의 번호입니다.\n",
    "    - section에서 같은 원소가 두 번 이상 나타나지 않습니다.\n",
    "    - section의 원소는 오름차순으로 정렬되어 있습니다.\n",
    "    \n",
    "![image.png](attachment:0c402791-7c5c-4b70-9182-4bc8d1170928.png)"
   ]
  },
  {
   "cell_type": "code",
   "execution_count": 68,
   "id": "2a10e2f6-428e-4e00-8668-ca8e865f0cfb",
   "metadata": {},
   "outputs": [],
   "source": [
    "n = 8\n",
    "m = 4\n",
    "section = [2,3,6]\n",
    "# result = 2"
   ]
  },
  {
   "cell_type": "code",
   "execution_count": 71,
   "id": "709d56dc-b634-4725-9b75-426568f16f94",
   "metadata": {},
   "outputs": [],
   "source": [
    "def solution(n, m, section):\n",
    "    answer = 0\n",
    "    \n",
    "    # n개의 벽을 하나하나 보기 보다는\n",
    "    # section은 칠해야 할 벽을 작은 수 부터 정렬해 놓았으니\n",
    "    # section의 맨 첫 번째 값에 해당하는 벽 부터 시작하면 된다.\n",
    "    # sectio의 첫번째 값에 1을 뺀 후 frist_num에 저장\n",
    "    first_num = section[0] -1\n",
    "    \n",
    "    # section의 요소들을 하나하나 살펴보며\n",
    "    for num in section:\n",
    "        \n",
    "        # 만약 first_num의 값이 section의 요소 중 하나인 num 보다 작으면\n",
    "        if first_num < num:\n",
    "            \n",
    "            # num에 롤러의 길의 -1 값을 더한다.\n",
    "            # 이는 section의 값에 해당하는 위치의 벽만 살펴 보겠다는 의미이다.\n",
    "            # 앞에 수만은 벽이 있어도 section에 해당하는 즉 다시 칠할 벽 부분 만 본다는 뜻이다.\n",
    "            # 아래의 식을 수행하면 first_num은 num에서 롤러의 길이 만큼의 벽에 도달한다.\n",
    "            first_num = num+m-1\n",
    "            # 그리고 벽을 칠했으니 answer에 1을 더한다.\n",
    "            answer += 1\n",
    "            \n",
    "            # 다시 for 문으로 돌아가면 롤러로 칠한 끝 부분부터 시작한다.\n",
    "    return answer"
   ]
  },
  {
   "cell_type": "code",
   "execution_count": 72,
   "id": "803fbe65-3b2b-40bd-a619-1334f29142bf",
   "metadata": {},
   "outputs": [
    {
     "data": {
      "text/plain": [
       "2"
      ]
     },
     "execution_count": 72,
     "metadata": {},
     "output_type": "execute_result"
    }
   ],
   "source": [
    "solution(n, m, section)"
   ]
  },
  {
   "cell_type": "code",
   "execution_count": null,
   "id": "ce9d4102-1f32-4477-8d44-4992695f3c28",
   "metadata": {},
   "outputs": [],
   "source": []
  }
 ],
 "metadata": {
  "kernelspec": {
   "display_name": "Python 3 (ipykernel)",
   "language": "python",
   "name": "python3"
  },
  "language_info": {
   "codemirror_mode": {
    "name": "ipython",
    "version": 3
   },
   "file_extension": ".py",
   "mimetype": "text/x-python",
   "name": "python",
   "nbconvert_exporter": "python",
   "pygments_lexer": "ipython3",
   "version": "3.9.12"
  }
 },
 "nbformat": 4,
 "nbformat_minor": 5
}
