{
 "cells": [
  {
   "cell_type": "markdown",
   "id": "91dfcf1b-a2e8-4c95-8851-0ac666d2c80f",
   "metadata": {},
   "source": [
    "## 문제 설명\n",
    "- 과일 장수가 사과 상자를 포장하고 있습니다. 사과는 상태에 따라 1점부터 k점까지의 점수로 분류하며, k점이 최상품의 사과이고 1점이 최하품의 사과입니다. 사과 한 상자의 가격은 다음과 같이 결정됩니다.\n",
    "\n",
    "    - 한 상자에 사과를 m개씩 담아 포장합니다.\n",
    "    - 상자에 담긴 사과 중 가장 낮은 점수가 p (1 ≤ p ≤ k)점인 경우, 사과 한 상자의 가격은 p * m 입니다.\n",
    "- 과일 장수가 가능한 많은 사과를 팔았을 때, 얻을 수 있는 최대 이익을 계산하고자 합니다.(사과는 상자 단위로만 판매하며, 남는 사과는 버립니다)\n",
    "\n",
    "- 예를 들어, k = 3, m = 4, 사과 7개의 점수가 [1, 2, 3, 1, 2, 3, 1]이라면, 다음과 같이 [2, 3, 2, 3]으로 구성된 사과 상자 1개를 만들어 판매하여 최대 이익을 얻을 수 있습니다.\n",
    "\n",
    "    - (최저 사과 점수) x (한 상자에 담긴 사과 개수) x (상자의 개수) = 2 x 4 x 1 = 8\n",
    "- 사과의 최대 점수 k, 한 상자에 들어가는 사과의 수 m, 사과들의 점수 score가 주어졌을 때, 과일 장수가 얻을 수 있는 최대 이익을 return하는 solution 함수를 완성해주세요."
   ]
  },
  {
   "cell_type": "markdown",
   "id": "2ab99c7a-fbba-4aca-955e-467973913ca8",
   "metadata": {},
   "source": [
    "## 제한사항\n",
    "- 3 ≤ k ≤ 9\n",
    "- 3 ≤ m ≤ 10\n",
    "- 7 ≤ score의 길이 ≤ 1,000,000\n",
    "    - 1 ≤ score[i] ≤ k\n",
    "- 이익이 발생하지 않는 경우에는 0을 return 해주세요."
   ]
  },
  {
   "cell_type": "code",
   "execution_count": 153,
   "id": "6e260a56-cde3-4ce0-8c78-77460b6fe059",
   "metadata": {},
   "outputs": [],
   "source": [
    "# 에시 1\n",
    "k = 4\n",
    "m = 3\n",
    "score = [4, 1, 2, 2, 4, 4, 4, 4, 1, 2, 4, 2]\n",
    "\n",
    "# 예시 2\n",
    "k1 = 3\n",
    "m1 = 4\n",
    "score1 = [1, 2, 3, 1, 2, 3, 1]"
   ]
  },
  {
   "cell_type": "code",
   "execution_count": 154,
   "id": "34dbf2de-f10a-4d43-b3e8-a1b31aa43560",
   "metadata": {},
   "outputs": [],
   "source": [
    "def solution(k, m, score):\n",
    "    answer = 0\n",
    "    \n",
    "    # sorted함수를 사용해 score의 요소들을 내림차순 정렬한다.\n",
    "    # 예시) [4, 4, 4, 4, 4, 4, 2, 2, 2, 2, 1, 1]\n",
    "    sort_score = sorted(score,reverse=True)\n",
    "    \n",
    "    # for문을 돌려 sort_score를 m으로 나눈 몫 만큼의 범위만 반복한다.\n",
    "    for i in range(len(sort_score)//m):\n",
    "        # 만약 sort_score[i:i+m] 즉 i인덱스부터 m번째 뒤의 인덱스까지의 길이가\n",
    "        # m 이라면\n",
    "        if len(sort_score[i:i+m]) == m:\n",
    "            # sort_score를 m개 씩 나눈 후 제일 작은 값을 찾아야 하므로\n",
    "            # 각 i * m 번 째의 m-1뒤의 인덱스 부분만 사용한다.\n",
    "            # 예시) [4, 4, 4, 4, 4, 4, 2, 2, 2, 2, 1, 1] ->\n",
    "            # [4, 4, 2, 1] 을 사용한여 각 요소에 m을 곱한 후 answer에 더해준다.\n",
    "            answer += sort_score[i*m+(m-1)] *m     \n",
    "    return answer"
   ]
  },
  {
   "cell_type": "code",
   "execution_count": 155,
   "id": "c699b307-3caf-4d67-adbd-1947c3125101",
   "metadata": {},
   "outputs": [
    {
     "name": "stdout",
     "output_type": "stream",
     "text": [
      "33\n",
      "8\n"
     ]
    }
   ],
   "source": [
    "print(solution(k, m, score))\n",
    "print(solution(k1, m1, score1))"
   ]
  },
  {
   "cell_type": "markdown",
   "id": "243a9831-bb99-4d8c-b851-2e7005bdad72",
   "metadata": {},
   "source": [
    "## 다른 사람의 풀이"
   ]
  },
  {
   "cell_type": "code",
   "execution_count": 156,
   "id": "1d556d0f-4810-4c68-af7e-9b1e63e8db82",
   "metadata": {},
   "outputs": [],
   "source": [
    "# 에시 1\n",
    "k = 4\n",
    "m = 3\n",
    "score = [4, 1, 2, 2, 4, 4, 4, 4, 1, 2, 4, 2]\n",
    "\n",
    "# 예시 2\n",
    "k1 = 3\n",
    "m1 = 4\n",
    "score1 = [1, 2, 3, 1, 2, 3, 1]"
   ]
  },
  {
   "cell_type": "markdown",
   "id": "e04bd832-2ec9-4910-a774-dccb5d152919",
   "metadata": {},
   "source": [
    "#### 상당히 짧고 간결하다..."
   ]
  },
  {
   "cell_type": "code",
   "execution_count": 169,
   "id": "7b1a331b-353c-42dc-a2e7-d347e064432f",
   "metadata": {},
   "outputs": [],
   "source": [
    "def solution(k, m, score):\n",
    "    return sum(sorted(score)[len(score)%m::m])*m"
   ]
  },
  {
   "cell_type": "code",
   "execution_count": 167,
   "id": "22fad8a2-79ed-4f65-beb5-ff15b6db6cb8",
   "metadata": {},
   "outputs": [
    {
     "data": {
      "text/plain": [
       "[1, 2, 4, 4]"
      ]
     },
     "execution_count": 167,
     "metadata": {},
     "output_type": "execute_result"
    }
   ],
   "source": [
    "sorted(score)[len(score)%m::m]"
   ]
  },
  {
   "cell_type": "code",
   "execution_count": 168,
   "id": "777fe839-5faf-4ff0-a090-1828661ea5cf",
   "metadata": {},
   "outputs": [],
   "source": [
    "# 예시 1을 사용하자.\n",
    "# sorted(score) -> [1, 1, 2, 2, 2, 2, 4, 4, 4, 4, 4, 4]\n",
    "# len(score) = 12\n",
    "# len(score)%m::m -> 12 % m::m -> 0부터 끝까지 step 4 -> [1, 2, 4, 4]\n",
    "# 각 요소의 m을 곱해서 더하는 것 결국 모든 요소를 더한 후 m을 곱한것과 같다.\n",
    "# sum(sorted(score)[len(score)%m::m])*m을 return"
   ]
  },
  {
   "cell_type": "code",
   "execution_count": 170,
   "id": "f9cb04eb-6c99-48ca-9b50-93e02fbfd0ee",
   "metadata": {},
   "outputs": [
    {
     "name": "stdout",
     "output_type": "stream",
     "text": [
      "33\n",
      "8\n"
     ]
    }
   ],
   "source": [
    "print(solution(k, m, score))\n",
    "print(solution(k1, m1, score1))"
   ]
  },
  {
   "cell_type": "code",
   "execution_count": null,
   "id": "bce42eb7-342e-4781-9068-27f3e82e730c",
   "metadata": {},
   "outputs": [],
   "source": []
  }
 ],
 "metadata": {
  "kernelspec": {
   "display_name": "Python 3 (ipykernel)",
   "language": "python",
   "name": "python3"
  },
  "language_info": {
   "codemirror_mode": {
    "name": "ipython",
    "version": 3
   },
   "file_extension": ".py",
   "mimetype": "text/x-python",
   "name": "python",
   "nbconvert_exporter": "python",
   "pygments_lexer": "ipython3",
   "version": "3.9.12"
  }
 },
 "nbformat": 4,
 "nbformat_minor": 5
}
