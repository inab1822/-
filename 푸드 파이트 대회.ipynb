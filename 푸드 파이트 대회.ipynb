{
 "cells": [
  {
   "cell_type": "markdown",
   "id": "c1eb7794-c76e-4ae4-8b86-2bd44c0ef4fc",
   "metadata": {},
   "source": [
    "## 문제 설명\n",
    "- 수웅이는 매달 주어진 음식을 빨리 먹는 푸드 파이트 대회를 개최합니다. 이 대회에서 선수들은 1대 1로 대결하며, 매 대결마다 음식의 종류와 양이 바뀝니다. 대결은 준비된 음식들을 일렬로 배치한 뒤, 한 선수는 제일 왼쪽에 있는 음식부터 오른쪽으로, 다른 선수는 제일 오른쪽에 있는 음식부터 왼쪽으로 순서대로 먹는 방식으로 진행됩니다. 중앙에는 물을 배치하고, 물을 먼저 먹는 선수가 승리하게 됩니다.\n",
    "\n",
    "- 이때, 대회의 공정성을 위해 두 선수가 먹는 음식의 종류와 양이 같아야 하며, 음식을 먹는 순서도 같아야 합니다. 또한, 이번 대회부터는 칼로리가 낮은 음식을 먼저 먹을 수 있게 배치하여 선수들이 음식을 더 잘 먹을 수 있게 하려고 합니다. 이번 대회를 위해 수웅이는 음식을 주문했는데, 대회의 조건을 고려하지 않고 음식을 주문하여 몇 개의 음식은 대회에 사용하지 못하게 되었습니다.\n",
    "\n",
    "- 예를 들어, 3가지의 음식이 준비되어 있으며, 칼로리가 적은 순서대로 1번 음식을 3개, 2번 음식을 4개, 3번 음식을 6개 준비했으며, 물을 편의상 0번 음식이라고 칭한다면, 두 선수는 1번 음식 1개, 2번 음식 2개, 3번 음식 3개씩을 먹게 되므로 음식의 배치는 \"1223330333221\"이 됩니다. 따라서 1번 음식 1개는 대회에 사용하지 못합니다.\n",
    "\n",
    "- 수웅이가 준비한 음식의 양을 칼로리가 적은 순서대로 나타내는 정수 배열 food가 주어졌을 때, 대회를 위한 음식의 배치를 나타내는 문자열을 return 하는 solution 함수를 완성해주세요."
   ]
  },
  {
   "attachments": {
    "7c480d47-6bec-4947-bd36-67cbf4b9bd2e.png": {
     "image/png": "[encoded data removed]"
    }
   },
   "cell_type": "markdown",
   "id": "66e720ef-5c74-4634-b640-b74b6d7d8f35",
   "metadata": {},
   "source": [
    "## 제한사항\n",
    "- 2 ≤ `food`의 길이 ≤ 9\n",
    "- 1 ≤ `food`의 각 원소 ≤ 1,000\n",
    "- `food`에는 칼로리가 적은 순서대로 음식의 양이 담겨 있습니다.\n",
    "- `food[i]`는 i번 음식의 수입니다.\n",
    "- `food[0]`은 수웅이가 준비한 물의 양이며, 항상 1입니다.\n",
    "- 정답의 길이가 3 이상인 경우만 입력으로 주어집니다.\n",
    "\n",
    "![image.png](attachment:7c480d47-6bec-4947-bd36-67cbf4b9bd2e.png)"
   ]
  },
  {
   "cell_type": "code",
   "execution_count": 106,
   "id": "ec02a6b7-afc3-4e35-9f73-f207f0447b5d",
   "metadata": {},
   "outputs": [],
   "source": [
    "food1 = [1, 3, 4, 6] # \"1223330333221\"\n",
    "food2 = [1, 7, 1, 2] # \"111303111\"\n",
    "food3 = [1, 3, 2, 3] # \"1230123\""
   ]
  },
  {
   "cell_type": "code",
   "execution_count": 107,
   "id": "57df8769-2af3-4a47-bbd8-790adf79a67a",
   "metadata": {},
   "outputs": [],
   "source": [
    "def solution(food):\n",
    "    # 답을 넣을 asnwer을 만든다.\n",
    "    answer = ''\n",
    "    \n",
    "    # enumerate를 사용하면 food의 각 요소와 해당요소의 인덱스 값을 반환한다.\n",
    "    # 이때 맨 앞의 1은 물을 뜻하므로 0으로 무조건 반환해야 하기에 food[1:]로 빼고\n",
    "    # for문을 돌린다. food1 = [1, 3, 4, 6] 을 예로 들면,\n",
    "    # idx, num 값은 차례대로 (0,3),(1,4),(2,6)이 들어간다.\n",
    "    for idx, num in enumerate(food[1:]):\n",
    "        \n",
    "        # num//2 range만큼 다시 for문을 돌린다.\n",
    "        # 3, 4, 6 을 2로 나눈 몫 -> 1, 2, 3 range만큼 반복될 것이다.\n",
    "        for i in range(num//2):\n",
    "            \n",
    "            # asnwer에 idx 즉 인덱스 값에 1을 더한 값을 집어 넣는다.\n",
    "            # 1이 한번 2가 두번 3이 세번 들어갈 것이다.\n",
    "            answer += str(idx+1)\n",
    "           \n",
    "    # anwer값에 0을 더한 후 answer를 반전시킨 문자열을 더한다.    \n",
    "    return answer + '0'+answer[::-1]"
   ]
  },
  {
   "cell_type": "code",
   "execution_count": 108,
   "id": "b842cc91-a7c8-4f56-88fe-45444a831b16",
   "metadata": {},
   "outputs": [
    {
     "name": "stdout",
     "output_type": "stream",
     "text": [
      "1223330333221\n",
      "111303111\n",
      "1230321\n"
     ]
    }
   ],
   "source": [
    "print(solution(food1))\n",
    "print(solution(food2))\n",
    "print(solution(food3))"
   ]
  },
  {
   "cell_type": "markdown",
   "id": "17edbc1b-2921-4eb0-9306-a6b5d90a1079",
   "metadata": {},
   "source": [
    "## 다른사람의 풀이\n",
    "- 는 언제봐도 천제적이다."
   ]
  },
  {
   "cell_type": "code",
   "execution_count": 114,
   "id": "79fdb414-ba8b-49b0-a4d9-f14dbd2265ec",
   "metadata": {},
   "outputs": [],
   "source": [
    "food1 = [1, 3, 4, 6] # \"1223330333221\"\n",
    "food2 = [1, 7, 1, 2] # \"111303111\"\n",
    "food3 = [1, 3, 2, 3] # \"1230123\""
   ]
  },
  {
   "cell_type": "code",
   "execution_count": 118,
   "id": "0e4c4a78-1768-45cb-8080-3abab463cab8",
   "metadata": {},
   "outputs": [],
   "source": [
    "def solution(food):\n",
    "    # '0'을 가지고있는 문자열 answer을 만든다.\n",
    "    answer =\"0\"\n",
    "    \n",
    "    # food의 길이-1부터 0까지 거꾸로 살펴보며 for문을 돌린다.\n",
    "    # food1 = [1, 3, 4, 6] 을 예시로 들면 i에는 3, 2, 1이 차례대로 들어간다.\n",
    "    for i in range(len(food)-1, 0,-1):\n",
    "        \n",
    "        # food의 i번째의 요소를 2로 나눈 후 int를 씌워주면 소수점이 날라간다.\n",
    "        # 이 때 c에는 3, 2, 1 이 차례대로 할당된다.\n",
    "        c = int(food[i]/2)\n",
    "        \n",
    "        # 각 c가 0이되면 멈추는 while문이다.\n",
    "        while c>0:\n",
    "            # 기존의 answer에 '0'이 있다.\n",
    "            # 여기 앞과 뒤에 문자열 i를 넣은 값을 다시 answer에 할당한다.\n",
    "            answer = str(i) + answer + str(i)\n",
    "            # c에 1을 뺀 후 다시 while문을 돌린다.\n",
    "            c -= 1\n",
    "    return answer"
   ]
  },
  {
   "cell_type": "code",
   "execution_count": 119,
   "id": "35e50e49-ba7b-4b35-9c43-0f862b828e89",
   "metadata": {},
   "outputs": [
    {
     "name": "stdout",
     "output_type": "stream",
     "text": [
      "1223330333221\n",
      "111303111\n",
      "1230321\n"
     ]
    }
   ],
   "source": [
    "print(solution(food1))\n",
    "print(solution(food2))\n",
    "print(solution(food3))"
   ]
  },
  {
   "cell_type": "code",
   "execution_count": null,
   "id": "bab0f658-52ed-4e39-a099-25fefb811ba0",
   "metadata": {},
   "outputs": [],
   "source": []
  }
 ],
 "metadata": {
  "kernelspec": {
   "display_name": "Python 3 (ipykernel)",
   "language": "python",
   "name": "python3"
  },
  "language_info": {
   "codemirror_mode": {
    "name": "ipython",
    "version": 3
   },
   "file_extension": ".py",
   "mimetype": "text/x-python",
   "name": "python",
   "nbconvert_exporter": "python",
   "pygments_lexer": "ipython3",
   "version": "3.9.12"
  }
 },
 "nbformat": 4,
 "nbformat_minor": 5
}
