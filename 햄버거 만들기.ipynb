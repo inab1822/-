{
 "cells": [
  {
   "cell_type": "markdown",
   "id": "f7a77bae-083e-468c-b822-dcb8fc12930f",
   "metadata": {},
   "source": [
    "## 문제 설명\n",
    "- 햄버거 가게에서 일을 하는 상수는 햄버거를 포장하는 일을 합니다. 함께 일을 하는 다른 직원들이 햄버거에 들어갈 재료를 조리해 주면 조리된 순서대로 상수의 앞에 아래서부터 위로 쌓이게 되고, 상수는 순서에 맞게 쌓여서 완성된 햄버거를 따로 옮겨 포장을 하게 됩니다. 상수가 일하는 가게는 정해진 순서(아래서부터, 빵 – 야채 – 고기 - 빵)로 쌓인 햄버거만 포장을 합니다. 상수는 손이 굉장히 빠르기 때문에 상수가 포장하는 동안 속 재료가 추가적으로 들어오는 일은 없으며, 재료의 높이는 무시하여 재료가 높이 쌓여서 일이 힘들어지는 경우는 없습니다.\n",
    "\n",
    "- 예를 들어, 상수의 앞에 쌓이는 재료의 순서가 [야채, 빵, 빵, 야채, 고기, 빵, 야채, 고기, 빵]일 때, 상수는 여섯 번째 재료가 쌓였을 때, 세 번째 재료부터 여섯 번째 재료를 이용하여 햄버거를 포장하고, 아홉 번째 재료가 쌓였을 때, 두 번째 재료와 일곱 번째 재료부터 아홉 번째 재료를 이용하여 햄버거를 포장합니다. 즉, 2개의 햄버거를 포장하게 됩니다.\n",
    "\n",
    "- 상수에게 전해지는 재료의 정보를 나타내는 정수 배열 ingredient가 주어졌을 때, 상수가 포장하는 햄버거의 개수를 return 하도록 solution 함수를 완성하시오."
   ]
  },
  {
   "cell_type": "markdown",
   "id": "a3172f1b-d4f1-460e-b7d4-4febad551932",
   "metadata": {},
   "source": [
    "## 제한사항\n",
    "- 1 ≤ ingredient의 길이 ≤ 1,000,000\n",
    "- ingredient의 원소는 1, 2, 3 중 하나의 값이며, 순서대로 빵, 야채, 고기를 의미합니다."
   ]
  },
  {
   "cell_type": "code",
   "execution_count": 53,
   "id": "e2841b6c-8fce-438b-ab1e-e0ae44dc7366",
   "metadata": {},
   "outputs": [],
   "source": []
  },
  {
   "cell_type": "code",
   "execution_count": 56,
   "id": "843d681f-2c98-41d0-84ab-d71b48ff0194",
   "metadata": {},
   "outputs": [],
   "source": [
    "def solution(ingredient):\n",
    "    pack = True\n",
    "    answer = 0\n",
    "    result = 0\n",
    "    \n",
    "    # pack가 True일 때만 실행한다.\n",
    "    while pack:\n",
    "        \n",
    "        # ingredient의 길이만큼 for문을 돌린다.\n",
    "        for i in range(len(ingredient)):\n",
    "            # 만약 ingredient[i:i+4] 값이 [1,2,3,1] 이면\n",
    "            if ingredient[i:i+4] == [1,2,3,1]:\n",
    "                # 해당 ingredient[i:i+4] 을 리스트에서 지워버리고\n",
    "                del ingredient[i:i+4]\n",
    "                # result에 1을 더한 후\n",
    "                result += 1\n",
    "                # 해당 i 인덱스에 0을 집어넣는다.\n",
    "                ingredient.insert(i,0)\n",
    "\n",
    "        # 그리고 answer와 result의 값이 같으면\n",
    "        # 즉 더 [1,2,3,1]을 찾지 못하면\n",
    "        if answer == result:   \n",
    "            # pack를 False로 바꾸고 while문을 끝낸다.\n",
    "            pack = False\n",
    "        # 아니라면\n",
    "        # 즉 [1,2,3,1]을 더 찾았다면\n",
    "        elif answer != result:\n",
    "            # ingredient에 넣은 0을 빼주고\n",
    "            ingredient = [i for i in ingredient if i != 0]\n",
    "            # result 값을 answer에 할당한다.\n",
    "            answer = result\n",
    "\n",
    "    return answer"
   ]
  },
  {
   "cell_type": "markdown",
   "id": "3edccd63-15db-4424-9655-cc394c426c03",
   "metadata": {},
   "source": [
    "### 3~6, 9, 12문제에 계속 실패가 뜬다....결국 반례를 찾아보고 다른 사람의 풀이를 살펴보았다."
   ]
  },
  {
   "cell_type": "markdown",
   "id": "36f66ab9-b41b-4a2e-9b7a-c7b590a32411",
   "metadata": {},
   "source": [
    "### 반례를 찾아보니\n",
    "- 만약 ingredient가 `[...1,2,1,2,3,1,3,1,....]` 이라면\n",
    "- 중간에 `[...1,2,[1,2,3,1],3,1,....]` 을 빼면 `[...1,2,3,1,]`이 또 만들어진다.\n",
    "- 이때 또 만들어진 `[1,2,3,1]`을 찾아내야 되는데\n",
    "- 위에 짠 코드에는 그냥 다음으로 넘어가 버린다."
   ]
  },
  {
   "cell_type": "code",
   "execution_count": 57,
   "id": "03a3f5c0-ebee-48b7-a9d1-80bf76a176d9",
   "metadata": {},
   "outputs": [],
   "source": [
    "# 위의 반례를 예시로 들어 아래의 ingredient 변수를 만든다.\n",
    "ingredient = [1,1,2,2,3,1, 1,2, 1, 2, 3, 1, 3, 1, 2, 3, 1]"
   ]
  },
  {
   "cell_type": "code",
   "execution_count": 58,
   "id": "0c6c59e0-ed81-4b5f-90e1-aaf4bb5220aa",
   "metadata": {},
   "outputs": [],
   "source": [
    "def solution(ingredient):\n",
    "    answer = 0\n",
    "    i = 0\n",
    "    \n",
    "    # i 가 ingredient의 길이보다 같거나 작은한 계속 while을 돌린다.\n",
    "    while i <= len(ingredient):\n",
    "        # 만약 ingredient[i:i+4]에 해당하는 리스트 값이 [1,2,3,1] 이면\n",
    "        if ingredient[i:i+4] == [1,2,3,1]:\n",
    "            # 해당 ingredient[i:i+4]을 ingredient에서 삭제한다.\n",
    "            del ingredient[i:i+4]\n",
    "            # answer에 1을 더한다.\n",
    "            answer += 1\n",
    "            # 그리고 i에 3을 뺀 값을 i에 저장한다.\n",
    "            # 이때 i는 인덱스값으로 쓰이기에 3칸 만큼 뒤로 간다는 뜻이다\n",
    "            i = i - 3\n",
    "        # 그 후에 마치 for문을 돌리듯이 다음 i 인덱스를 살펴본다.\n",
    "        i += 1\n",
    "        \n",
    "    return answer"
   ]
  },
  {
   "cell_type": "markdown",
   "id": "87eccb77-bc2d-4855-85ee-586e09de3ba0",
   "metadata": {},
   "source": [
    "## 다른 사람의 풀이"
   ]
  },
  {
   "cell_type": "code",
   "execution_count": null,
   "id": "80e2c52f-7d0e-4b5a-9573-cfbf683bd282",
   "metadata": {},
   "outputs": [],
   "source": [
    "ingredient = [1,1,2,2,3,1, 1,2, 1, 2, 3, 1, 3, 1, 2, 3, 1]"
   ]
  },
  {
   "cell_type": "code",
   "execution_count": null,
   "id": "9d8d5064-0cc7-4e13-835c-94b9879a7db1",
   "metadata": {},
   "outputs": [],
   "source": [
    "def solution(ingredient):\n",
    "    \n",
    "    # 리스트 s와 값이 0인 cnt를 만든다.\n",
    "    s = []\n",
    "    cnt = 0\n",
    "    \n",
    "    # ingredient의 요소 하나하나를 살펴보자.\n",
    "    for i in ingredient:\n",
    "        # 해당 i를 리스트 s에 마지막 요소로 집어넣는다.\n",
    "        s.append(i)\n",
    "        # 이때 만약 리스트 s의 맨 뒤에서 네번째 부터 맨 뒤의 요소가\n",
    "        # [1, 2, 3, 1] 리스트의 값을 가지면\n",
    "        if s[-4:] == [1, 2, 3, 1]:\n",
    "            # cnt를 1 더해준고\n",
    "            cnt += 1\n",
    "            # pop()으로 s의 맨 마지막 요소를\n",
    "            # 4번 반복하여 빼 낸다.\n",
    "            for i in range(4):\n",
    "                s.pop()\n",
    "    return cnt"
   ]
  },
  {
   "cell_type": "code",
   "execution_count": null,
   "id": "f373f61d-4c26-4cb2-8a93-db1690f1f853",
   "metadata": {},
   "outputs": [],
   "source": []
  }
 ],
 "metadata": {
  "kernelspec": {
   "display_name": "Python 3 (ipykernel)",
   "language": "python",
   "name": "python3"
  },
  "language_info": {
   "codemirror_mode": {
    "name": "ipython",
    "version": 3
   },
   "file_extension": ".py",
   "mimetype": "text/x-python",
   "name": "python",
   "nbconvert_exporter": "python",
   "pygments_lexer": "ipython3",
   "version": "3.9.12"
  }
 },
 "nbformat": 4,
 "nbformat_minor": 5
}
