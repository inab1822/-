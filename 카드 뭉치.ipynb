{
 "cells": [
  {
   "cell_type": "markdown",
   "id": "408b4af8-e504-46ef-81f4-e97e23037b0f",
   "metadata": {},
   "source": [
    "## 문제 설명\n",
    "- 코니는 영어 단어가 적힌 카드 뭉치 두 개를 선물로 받았습니다. 코니는 다음과 같은 규칙으로 카드에 적힌 단어들을 사용해 원하는 순서의 단어 배열을 만들 수 있는지 알고 싶습니다.\n",
    "\n",
    "    - 원하는 카드 뭉치에서 카드를 순서대로 한 장씩 사용합니다.\n",
    "    - 한 번 사용한 카드는 다시 사용할 수 없습니다.\n",
    "    - 카드를 사용하지 않고 다음 카드로 넘어갈 수 없습니다.\n",
    "    - 기존에 주어진 카드 뭉치의 단어 순서는 바꿀 수 없습니다.\n",
    "- 예를 들어 첫 번째 카드 뭉치에 순서대로 [\"i\", \"drink\", \"water\"], 두 번째 카드 뭉치에 순서대로 [\"want\", \"to\"]가 적혀있을 때 [\"i\", \"want\", \"to\", \"drink\", \"water\"] 순서의 단어 배열을 만들려고 한다면 첫 번째 카드 뭉치에서 \"i\"를 사용한 후 두 번째 카드 뭉치에서 \"want\"와 \"to\"를 사용하고 첫 번째 카드뭉치에 \"drink\"와 \"water\"를 차례대로 사용하면 원하는 순서의 단어 배열을 만들 수 있습니다.\n",
    "\n",
    "- 문자열로 이루어진 배열 cards1, cards2와 원하는 단어 배열 goal이 매개변수로 주어질 때, cards1과 cards2에 적힌 단어들로 goal를 만들 있다면 \"Yes\"를, 만들 수 없다면 \"No\"를 return하는 solution 함수를 완성해주세요."
   ]
  },
  {
   "attachments": {
    "20ebe4db-a20f-4e74-87e6-310d3e790cb3.png": {
     "image/png": "[encoded data removed]"
    }
   },
   "cell_type": "markdown",
   "id": "203adf25-9b65-4a76-bb0a-f1c6e45db8d9",
   "metadata": {},
   "source": [
    "## 제한사항\n",
    "- 1 ≤ cards1의 길이, cards2의 길이 ≤ 10\n",
    "    - 1 ≤ cards1[i]의 길이, cards2[i]의 길이 ≤ 10\n",
    "    - cards1과 cards2에는 서로 다른 단어만 존재합니다.\n",
    "- 2 ≤ goal의 길이 ≤ cards1의 길이 + cards2의 길이\n",
    "    - 1 ≤ goal[i]의 길이 ≤ 10\n",
    "    - goal의 원소는 cards1과 cards2의 원소들로만 이루어져 있습니다.\n",
    "- cards1, cards2, goal의 문자열들은 모두 알파벳 소문자로만 이루어져 있습니다.\n",
    "\n",
    "![image.png](attachment:20ebe4db-a20f-4e74-87e6-310d3e790cb3.png)"
   ]
  },
  {
   "cell_type": "code",
   "execution_count": 1,
   "id": "d9612f71-a3d8-46bb-adb7-04222f1bfb0b",
   "metadata": {},
   "outputs": [],
   "source": [
    "# 예제\n",
    "cards1 = [\"i\", \"drink\", \"water\"]\n",
    "cards2 = [\"want\", \"to\"]\n",
    "goal = [\"i\", \"want\", \"to\", \"drink\", \"water\"]\n",
    "# return값은 'Yes'여야 합니다."
   ]
  },
  {
   "cell_type": "code",
   "execution_count": 2,
   "id": "fa00e52d-8544-4b28-9bd8-f0a27f905cbb",
   "metadata": {},
   "outputs": [],
   "source": [
    "def solution(cards1, cards2, goal):\n",
    "    answer = []\n",
    "    # for문을 사용하여 goal리스트의 값을 하나하나 살펴 봅니다\n",
    "    for word in goal:\n",
    "        \n",
    "        # 만약 word와 cards1의 첫번째 요소가 같다면\n",
    "        if word == cards1[0]:\n",
    "            # cards1의 첫번째 요소를 빼서 cards1의 마지막에 넣습니다.\n",
    "            cards1.append(cards1.pop(0))\n",
    "            # 그리고 answer에는 'Yes'를 넣습니다.\n",
    "            answer.append('Yes')\n",
    "            \n",
    "        # 만약 word와 cards2의 첫번째 요소가 같다면\n",
    "        elif word == cards2[0]:\n",
    "            # cards2의 첫번째 요소를 빼서 cards2의 마지막에 넣습니다.\n",
    "            cards2.append(cards2.pop(0))\n",
    "            # 그리고 answer에는 'Yes'를 넣습니다.\n",
    "            answer.append('Yes')\n",
    "            \n",
    "        # 만약 word가 cards1과 cards2의 첫번째요소와 모두 맞지 않다면    \n",
    "        elif (word != cards1[0]) and (word != cards2[0]):\n",
    "            # answer에 'No'를 첫번째 요소로 집어 넣습니다.\n",
    "            answer.insert(0,'No')\n",
    "    \n",
    "    # anwer의 첫번째 요소를 반환합니다.\n",
    "    return answer[0]"
   ]
  },
  {
   "cell_type": "code",
   "execution_count": 4,
   "id": "6aca38dd-4be4-4f50-b0ea-3426c70d4bc9",
   "metadata": {},
   "outputs": [
    {
     "data": {
      "text/plain": [
       "'Yes'"
      ]
     },
     "execution_count": 4,
     "metadata": {},
     "output_type": "execute_result"
    }
   ],
   "source": [
    "# 함수를 실행 합니다.\n",
    "solution(cards1, cards2, goal)"
   ]
  },
  {
   "cell_type": "markdown",
   "id": "de46b1b3-a376-45e3-8641-d294f3c44545",
   "metadata": {},
   "source": [
    "## 예상한 'Yes'가 정상 출력 됩니다."
   ]
  },
  {
   "cell_type": "markdown",
   "id": "1eac1c9a-e7fe-4a1b-ac14-48bdbe7c5f89",
   "metadata": {},
   "source": [
    "## 다른 사람의 풀이"
   ]
  },
  {
   "cell_type": "code",
   "execution_count": 5,
   "id": "6df80ae3-6a50-4dca-9dcc-e1fdf53c489c",
   "metadata": {},
   "outputs": [],
   "source": [
    "# 예제\n",
    "cards1 = [\"i\", \"drink\", \"water\"]\n",
    "cards2 = [\"want\", \"to\"]\n",
    "goal = [\"i\", \"want\", \"to\", \"drink\", \"water\"]\n",
    "# return값은 'Yes'여야 합니다."
   ]
  },
  {
   "cell_type": "code",
   "execution_count": 6,
   "id": "ad7d07a5-8da4-4e43-b662-f94e2b0c935b",
   "metadata": {},
   "outputs": [],
   "source": [
    "def solution(cards1, cards2, goal):\n",
    "    ans = []\n",
    "    \n",
    "    # goal의 길이만큼 반복문을 돌리는데\n",
    "    # 변수가 필요없어 _(언더바)를 사용한다.\n",
    "    for _ in range(len(goal)):\n",
    "        # 만약 cards1의 길이가 0보다 크고 cards1[0]이 goal[0]과 같으면\n",
    "        if len(cards1) > 0 and cards1[0] == goal[0]:\n",
    "            # cards1과 goal의 첫번째 요소로를 뽑아낸다.\n",
    "            cards1.pop(0)\n",
    "            goal.pop(0)\n",
    "            \n",
    "        # # 만약 cards2의 길이가 0보다 크고 cards1[0]이 goal[0]과 같으면\n",
    "        elif len(cards2) > 0 and cards2[0] == goal[0]:\n",
    "            # cards2과 goal의 첫번째 요소로를 뽑아낸다.\n",
    "            cards2.pop(0)\n",
    "            goal.pop(0)\n",
    "    # 만약 goal의 길이가 0이면 'Yes', 아니면 'No'를 반환 한다.\n",
    "    return \"Yes\" if len(goal) == 0 else \"No\""
   ]
  },
  {
   "cell_type": "code",
   "execution_count": 8,
   "id": "ec1d1f02-da5b-425c-a4f6-769edc853b6f",
   "metadata": {},
   "outputs": [
    {
     "data": {
      "text/plain": [
       "'Yes'"
      ]
     },
     "execution_count": 8,
     "metadata": {},
     "output_type": "execute_result"
    }
   ],
   "source": [
    "# 함수를 실행한다.\n",
    "solution(cards1, cards2, goal)"
   ]
  },
  {
   "cell_type": "markdown",
   "id": "7710f913-f70b-4040-ab4e-f3878d572831",
   "metadata": {},
   "source": [
    "## 예상한 'Yes'가 정상 출력 됩니다."
   ]
  },
  {
   "cell_type": "code",
   "execution_count": null,
   "id": "51f5d1a5-02cb-4fdd-8f0b-13385f12b7b6",
   "metadata": {},
   "outputs": [],
   "source": []
  }
 ],
 "metadata": {
  "kernelspec": {
   "display_name": "Python 3 (ipykernel)",
   "language": "python",
   "name": "python3"
  },
  "language_info": {
   "codemirror_mode": {
    "name": "ipython",
    "version": 3
   },
   "file_extension": ".py",
   "mimetype": "text/x-python",
   "name": "python",
   "nbconvert_exporter": "python",
   "pygments_lexer": "ipython3",
   "version": "3.9.12"
  }
 },
 "nbformat": 4,
 "nbformat_minor": 5
}
