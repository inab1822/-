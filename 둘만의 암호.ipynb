{
 "cells": [
  {
   "cell_type": "markdown",
   "id": "d3b65856-0f95-44bc-b754-672005467b97",
   "metadata": {},
   "source": [
    "## 문제 설명\n",
    "- 두 문자열 s와 skip, 그리고 자연수 index가 주어질 때, 다음 규칙에 따라 문자열을 만들려 합니다. 암호의 규칙은 다음과 같습니다.\n",
    "\n",
    "    - 문자열 s의 각 알파벳을 index만큼 뒤의 알파벳으로 바꿔줍니다.\n",
    "    - index만큼의 뒤의 알파벳이 z를 넘어갈 경우 다시 a로 돌아갑니다.\n",
    "    - skip에 있는 알파벳은 제외하고 건너뜁니다.\n",
    "- 예를 들어 s = \"aukks\", skip = \"wbqd\", index = 5일 때, a에서 5만큼 뒤에 있는 알파벳은 f지만 [b, c, d, e, f]에서 'b'와 'd'는 skip에 포함되므로 세지 않습니다. 따라서 'b', 'd'를 제외하고 'a'에서 5만큼 뒤에 있는 알파벳은 [c, e, f, g, h] 순서에 의해 'h'가 됩니다. 나머지 \"ukks\" 또한 위 규칙대로 바꾸면 \"appy\"가 되며 결과는 \"happy\"가 됩니다.\n",
    "\n",
    "- 두 문자열 s와 skip, 그리고 자연수 index가 매개변수로 주어질 때 위 규칙대로 s를 변환한 결과를 return하도록 solution 함수를 완성해주세요."
   ]
  },
  {
   "cell_type": "markdown",
   "id": "07ade34d-cbb7-4ba3-89ba-a20c3593adf7",
   "metadata": {},
   "source": [
    "## 제한사항\n",
    "- 5 ≤ s의 길이 ≤ 50\n",
    "- 1 ≤ skip의 길이 ≤ 10\n",
    "- s와 skip은 알파벳 소문자로만 이루어져 있습니다.\n",
    "    - skip에 포함되는 알파벳은 s에 포함되지 않습니다.\n",
    "- 1 ≤ index ≤ 20"
   ]
  },
  {
   "attachments": {
    "a69767c5-c896-462c-8fec-27b8904608f4.png": {
     "image/png": "[encoded data removed]"
    }
   },
   "cell_type": "markdown",
   "id": "7038c776-6530-4f2b-a235-b0b0c6bf9d12",
   "metadata": {},
   "source": [
    "![image.png](attachment:a69767c5-c896-462c-8fec-27b8904608f4.png)"
   ]
  },
  {
   "cell_type": "code",
   "execution_count": 100,
   "id": "a941e995-1a83-4a7a-a312-2af7a78e8910",
   "metadata": {},
   "outputs": [],
   "source": [
    "# 예제를 정한다.\n",
    "s = \"aukks\"\n",
    "skip = \"wbqd\"\n",
    "index = 5\n",
    "# 결과 값으로 'happy'가 출력되야 한다."
   ]
  },
  {
   "cell_type": "code",
   "execution_count": 101,
   "id": "1683a957-bdfb-4cae-893c-1f72ddf03c80",
   "metadata": {},
   "outputs": [],
   "source": [
    "# string 라이브러리에서 소문자 알파벳 리스트를 부러온다.\n",
    "from string import ascii_lowercase\n",
    "\n",
    "def solution(s, skip, index):\n",
    "    # 리스트 내 for문으로 알파벳리스트의 값이 skip 들어있지 않은 값만 alphabet에 할당한다.\n",
    "    alphabet = [x for x in ascii_lowercase if x not in skip]\n",
    "    # 예제 index 값과 달리 index의 값이 alphabet보다 훨씬 많을 수 있다.\n",
    "    # 나머지 값을 이용하여 index를 다시 정해준다.\n",
    "    index = index % len(alphabet)\n",
    "    # 답을 적을 answer 변수를 만든다.\n",
    "    answer=''\n",
    "    # for문을 돌려 문자열 s의 값 하나하나를 i에 할당한다.\n",
    "    for i in s:\n",
    "        # 만약 i와 같은 alphabet의 요소의 인덱스 값 + index 값이 alphabet의 길이보다 길다면\n",
    "        if alphabet.index(i)+index >= len(alphabet):\n",
    "            # i와 같은 alphabet의 요소의 인덱스 값 + index 값에서 alphabet의 길이만 큼\n",
    "            # 빼준 인덱스값에 해당하는 alphabet을 찾아 answer에 더한다.\n",
    "            answer += alphabet[(alphabet.index(i)+index)-len(alphabet)]\n",
    "        else:\n",
    "            # i와 같은 alphabet의 요소의 인덱스 값 + index 값이 alphabet보다 작다면\n",
    "            # 그 값에 해당하는 alphabet 값을 answer에 넣는다.\n",
    "            answer += alphabet[alphabet.index(i)+index]\n",
    "        \n",
    "    return answer"
   ]
  },
  {
   "cell_type": "code",
   "execution_count": 102,
   "id": "ba65950a-25a8-4d4a-80ba-499fac3ac843",
   "metadata": {},
   "outputs": [
    {
     "data": {
      "text/plain": [
       "'happy'"
      ]
     },
     "execution_count": 102,
     "metadata": {},
     "output_type": "execute_result"
    }
   ],
   "source": [
    "solution(s, skip, index)"
   ]
  },
  {
   "cell_type": "markdown",
   "id": "77bea946-3a6a-4a8f-a65c-311d53c479cb",
   "metadata": {},
   "source": [
    "## 결과를 확인하면 'happy'가 정상 출력된다."
   ]
  },
  {
   "cell_type": "markdown",
   "id": "cdfe2c39-874b-4d8f-bdf2-3088e79284c0",
   "metadata": {},
   "source": [
    "## 다른 풀이를 살펴보자."
   ]
  },
  {
   "cell_type": "markdown",
   "id": "55512dd3-3e09-403b-ba87-d78dc0849f12",
   "metadata": {},
   "source": [
    "#### set를 활용한 풀이"
   ]
  },
  {
   "cell_type": "code",
   "execution_count": 106,
   "id": "c3c5c3e2-3721-467e-be1a-80e80dff141c",
   "metadata": {},
   "outputs": [],
   "source": [
    "s = \"aukks\"\n",
    "skip = \"wbqd\"\n",
    "index = 5"
   ]
  },
  {
   "cell_type": "code",
   "execution_count": 111,
   "id": "d6b972eb-c0cf-4880-97f3-e309266fb536",
   "metadata": {},
   "outputs": [],
   "source": [
    "from string import ascii_lowercase\n",
    "\n",
    "def solution(s, skip, index):\n",
    "    result = ''\n",
    "    \n",
    "    # 알파뱃리스트를 집합으로 바꿔서 a_to_z에 할당한다.\n",
    "    a_to_z = set(ascii_lowercase)\n",
    "    # 집합 데이터타입의 특성으로\n",
    "    # a_to_z(알파벳집합)에서 set(skip)(빼야되는 알파벳 집합)을 빼준다.\n",
    "    a_to_z -= set(skip)\n",
    "    # skip요소가 빠진 a_to_z를 정렬한다.\n",
    "    a_to_z = sorted(a_to_z)\n",
    "    # 정렬된 a_to_z의 길이를 구한다.\n",
    "    l = len(a_to_z)\n",
    "    \n",
    "    # enumerate를 사용해 각 인덱스값과 인덱스에 해당하는 요소값을 딕셔너리 파일로 만들어\n",
    "    # dic_alpha에 할당한다.\n",
    "    # dic_alpha = {'a': 0,'c': 1,'e': 2,'f': 3,'g': 4,'h': 5,'i': 6,'j': 7,....}\n",
    "    dic_alpha = {alpha:idx for idx, alpha in enumerate(a_to_z)}\n",
    "    \n",
    "    # for 문을 돌려 문자열 s의 요소 하나하나를 i에 대입한다.\n",
    "    for i in s:\n",
    "        # i에 a를 집어넣었을 때\n",
    "        # dic_alpha[a]는 0이된다.\n",
    "        # index는 5이므로 0 + 5 = 5\n",
    "        # 여기서 만약 dic_alpha[i] + index 값이 a_to_z의 범위를 벗어날 수 있으므로\n",
    "        # len(a_to_z) 값으로 나눈 후 나머지를 구한다.\n",
    "        # len(a_to_z)는 22 이므로\n",
    "        # 5에서 22를 나누면 몫은 0이요, 나머지는 5이다.\n",
    "        # a_to_z[5]의 값은 'h'가 된다.\n",
    "        result += a_to_z[(dic_alpha[i] + index) % l]\n",
    "    \n",
    "    # for문으로 반복을 마치고 result값을 반환한다.\n",
    "    return result"
   ]
  },
  {
   "cell_type": "code",
   "execution_count": 113,
   "id": "bd5ac1ac-9ac6-4253-9994-3218d3dc49ea",
   "metadata": {},
   "outputs": [
    {
     "data": {
      "text/plain": [
       "'happy'"
      ]
     },
     "execution_count": 113,
     "metadata": {},
     "output_type": "execute_result"
    }
   ],
   "source": [
    "# 함수를 실행해 보자.\n",
    "solution(s, skip, index)"
   ]
  },
  {
   "cell_type": "markdown",
   "id": "ed9bb613-df10-4520-96aa-38cbb5508bf4",
   "metadata": {},
   "source": [
    "## 결과를 확인하면 역시 'happy'가 정상 출력된다."
   ]
  },
  {
   "cell_type": "code",
   "execution_count": null,
   "id": "e3774a74-cfc4-44be-a6b2-b9bdb574b820",
   "metadata": {},
   "outputs": [],
   "source": []
  }
 ],
 "metadata": {
  "kernelspec": {
   "display_name": "Python 3 (ipykernel)",
   "language": "python",
   "name": "python3"
  },
  "language_info": {
   "codemirror_mode": {
    "name": "ipython",
    "version": 3
   },
   "file_extension": ".py",
   "mimetype": "text/x-python",
   "name": "python",
   "nbconvert_exporter": "python",
   "pygments_lexer": "ipython3",
   "version": "3.9.12"
  }
 },
 "nbformat": 4,
 "nbformat_minor": 5
}
