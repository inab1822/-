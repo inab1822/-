{
 "cells": [
  {
   "cell_type": "markdown",
   "id": "45661b03-ed38-4d66-977f-31a0bc63de0f",
   "metadata": {},
   "source": [
    "## 문제 설명\n",
    "- 휴대폰의 자판은 컴퓨터 키보드 자판과는 다르게 하나의 키에 여러 개의 문자가 할당될 수 있습니다. 키 하나에 여러 문자가 할당된 경우, 동일한 키를 연속해서 빠르게 누르면 할당된 순서대로 문자가 바뀝니다.\n",
    "\n",
    "- 예를 들어, 1번 키에 \"A\", \"B\", \"C\" 순서대로 문자가 할당되어 있다면 1번 키를 한 번 누르면 \"A\", 두 번 누르면 \"B\", 세 번 누르면 \"C\"가 되는 식입니다.\n",
    "\n",
    "- 같은 규칙을 적용해 아무렇게나 만든 휴대폰 자판이 있습니다. 이 휴대폰 자판은 키의 개수가 1개부터 최대 100개까지 있을 수 있으며, 특정 키를 눌렀을 때 입력되는 문자들도 무작위로 배열되어 있습니다. 또, 같은 문자가 자판 전체에 여러 번 할당된 경우도 있고, 키 하나에 같은 문자가 여러 번 할당된 경우도 있습니다. 심지어 아예 할당되지 않은 경우도 있습니다. 따라서 몇몇 문자열은 작성할 수 없을 수도 있습니다.\n",
    "\n",
    "- 이 휴대폰 자판을 이용해 특정 문자열을 작성할 때, 키를 최소 몇 번 눌러야 그 문자열을 작성할 수 있는지 알아보고자 합니다.\n",
    "\n",
    "- 1번 키부터 차례대로 할당된 문자들이 순서대로 담긴 문자열배열 keymap과 입력하려는 문자열들이 담긴 문자열 배열 targets가 주어질 때, 각 문자열을 작성하기 위해 키를 최소 몇 번씩 눌러야 하는지 순서대로 배열에 담아 return 하는 solution 함수를 완성해 주세요.\n",
    "\n",
    "- 단, 목표 문자열을 작성할 수 없을 때는 -1을 저장합니다."
   ]
  },
  {
   "attachments": {
    "8cb707eb-6370-4670-afaf-1eab0da82b95.png": {
     "image/png": "[encoded data removed]"
    }
   },
   "cell_type": "markdown",
   "id": "a624a3aa-4780-4476-86a5-ac001481be8c",
   "metadata": {},
   "source": [
    "##제한사항\n",
    "- 1 ≤ keymap의 길이 ≤ 100\n",
    "    - 1 ≤ keymap의 원소의 길이 ≤ 100\n",
    "    - keymap[i]는 i + 1번 키를 눌렀을 때 순서대로 바뀌는 문자를 의미합니다.\n",
    "        - 예를 들어 keymap[0] = \"ABACD\" 인 경우 1번 키를 한 번 누르면 A, 두 번 누르면 B, 세 번 누르면 A 가 됩니다.\n",
    "    - keymap의 원소의 길이는 서로 다를 수 있습니다.\n",
    "    - keymap의 원소는 알파벳 대문자로만 이루어져 있습니다.\n",
    "- 1 ≤ targets의 길이 ≤ 100\n",
    "    - 1 ≤ targets의 원소의 길이 ≤ 100\n",
    "    - targets의 원소는 알파벳 대문자로만 이루어져 있습니다.\n",
    "    \n",
    "\n",
    "![image.png](attachment:8cb707eb-6370-4670-afaf-1eab0da82b95.png)"
   ]
  },
  {
   "cell_type": "markdown",
   "id": "991fdd48-3924-4230-b2bb-3dc60a94e8fa",
   "metadata": {},
   "source": [
    "#### 예시 모음\n",
    "- 아래의 예시에서 하나를 정해 실행합니다."
   ]
  },
  {
   "cell_type": "code",
   "execution_count": 174,
   "id": "6b5594ed-5da9-4cb2-9d57-cd52c549c382",
   "metadata": {},
   "outputs": [],
   "source": [
    "keymap = [\"ABACD\", \"BCEFD\"]\n",
    "targets = [\"ABCD\",\"AABB\"]\n",
    "# keymap = [\"AA\"]\n",
    "# targets = [\"B\"]\n",
    "# keymap = [\"AGB\", \"BSSS\"]\n",
    "# targets = [\"AGZ\", \"BSSS\"]"
   ]
  },
  {
   "cell_type": "code",
   "execution_count": 173,
   "id": "df9122bd-6e50-450d-8ded-7136790f750a",
   "metadata": {},
   "outputs": [],
   "source": [
    "def solution(keymap, targets):\n",
    "    answer = []\n",
    "    \n",
    "    # key값은 알파벳을 value값은 0을 갖는 dict를 하나 만듭니다.\n",
    "    alp_dict = {'A': 0,'B': 0,'C': 0,'D': 0,'E': 0,'F': 0,'G': 0,'H': 0,'I': 0,\n",
    " 'J': 0,'K': 0,'L': 0,'M': 0,'N': 0,'O': 0,'P': 0,'Q': 0,'R': 0,'S': 0,'T': 0,'U': 0,'V': 0,'W': 0,'X': 0,'Y': 0,'Z': 0}\n",
    "    \n",
    "    # keymap의 요소를 살펴보며 가장 적은 탭으로\n",
    "    # alp_dict의 key값에 해당하는 알파벳을 입력할 수 있는 탭 수를 alp_dict에 value 값으로 넣습니다.\n",
    "    for k in alp_dict.keys():\n",
    "        for test in keymap:\n",
    "            if alp_dict[k] == 0:\n",
    "                alp_dict[k] = test.find(k)+1 if test.find(k) != -1 else 0\n",
    "            elif (test.find(k) != -1) and (alp_dict[k] >= test.find(k)+1):\n",
    "                alp_dict[k] = test.find(k)+1 if test.find(k) != -1 else 0\n",
    "                \n",
    "    # targets의 요소 하나하나를 text로 할당해 살펴봅시다.\n",
    "    for text in targets:\n",
    "        \n",
    "        # 리스트 내 for문으로 text의 요소 하나하나에 해당하는 alp_dict의 value 값을\n",
    "        # result에 할당합니다.\n",
    "        result = [alp_dict[k] for k in text]\n",
    "        \n",
    "        # 이때 result안의 요소 값이 하나라도 0이 들어가면\n",
    "        if 0 in result:\n",
    "            # 해당 글자를 만들 수 없으므로 answer에 -1 넣습니다.\n",
    "            answer.append(-1)\n",
    "        else:\n",
    "            # 0이 없다면 result의 모든 요소를 합한 값을 answer에 넣습니다.\n",
    "            answer.append(sum(result))\n",
    "\n",
    "\n",
    "    return answer"
   ]
  },
  {
   "cell_type": "code",
   "execution_count": 175,
   "id": "7cc54a73-92f8-4923-a7a2-c688d0931a97",
   "metadata": {},
   "outputs": [
    {
     "data": {
      "text/plain": [
       "[9, 4]"
      ]
     },
     "execution_count": 175,
     "metadata": {},
     "output_type": "execute_result"
    }
   ],
   "source": [
    "solution(keymap, targets)"
   ]
  },
  {
   "cell_type": "markdown",
   "id": "dcc3bca9-75cf-4d00-9cc5-2d8e05e66549",
   "metadata": {},
   "source": [
    "## 다른 사람의 풀이"
   ]
  },
  {
   "cell_type": "code",
   "execution_count": 179,
   "id": "945986b7-ff98-4f5b-b8dc-f15207e66cef",
   "metadata": {},
   "outputs": [],
   "source": [
    "keymap = [\"ABACD\", \"BCEFD\"]\n",
    "targets = [\"ABCD\",\"AABB\"]"
   ]
  },
  {
   "cell_type": "code",
   "execution_count": 183,
   "id": "229f6d5e-9301-4da3-bde9-bc73be64fee7",
   "metadata": {},
   "outputs": [],
   "source": [
    "def solution(keymap, targets):\n",
    "    answer = []\n",
    "    \n",
    "    \n",
    "    # range(26) 즉 알파벳 갯수 만큼의 101을 리스로 만들어 alpha에 할당\n",
    "    alpha = [101 for i in range(26)]\n",
    "    \n",
    "    # keymap의 요소 하나하나를 i에 할당하여 반복문을 돌린다.\n",
    "    for i in keymap:\n",
    "        # keymap의 요소 i를 enumerate로\n",
    "        # 인덱스와 각 인덱스의 해당하는 값을 살펴본다.\n",
    "        for idx, j in enumerate(i):\n",
    "            # 'ABACD'를 i값으로 사용해 예시를들어보자.\n",
    "            # enumerate('ABACD')에서\n",
    "            # idx = 0, j = 'A'로 살펴보면\n",
    "            # ord(j)-ord('A') = 0이 된다\n",
    "            k = ord(j)-ord('A')\n",
    "            # k는 0이므로 alpha[0]은 원래있던 alpha[0]과 idx+1의 값 중 최소값이\n",
    "            # 들어가게 된다.\n",
    "            alpha[k] = min(alpha[k],idx+1)\n",
    "    \n",
    "    # targets의 요소 하나하나를 i에 할당한다.\n",
    "    # ex) i = 'ABCD'\n",
    "    for i in targets:\n",
    "        total = 0\n",
    "        # i의 요소 하나하나를 j에 할당한다.\n",
    "        # ex) j = 'A'\n",
    "        for j in i:\n",
    "            # ord(j) - ord('A') = 0 이므로 alpha[0] 값이 cnt로 할당.\n",
    "            cnt = alpha[ord(j) - ord('A')]\n",
    "            \n",
    "            # cnt가 101이면\n",
    "            if cnt ==101:\n",
    "                # answer에 -1을 넣고 멈춘다.\n",
    "                answer.append(-1)\n",
    "                break\n",
    "            # cnt가 101이 아니면\n",
    "            else:\n",
    "                # cnt의 값을 total에 더한다.\n",
    "                total+= cnt\n",
    "        else:\n",
    "            # 그 후 total값을 answer에 할당한다.\n",
    "            answer.append(total)\n",
    "\n",
    "\n",
    "\n",
    "    return answer"
   ]
  },
  {
   "cell_type": "code",
   "execution_count": 184,
   "id": "51817d4d-74a1-4a2b-8d6f-b281d39e9fa5",
   "metadata": {},
   "outputs": [
    {
     "data": {
      "text/plain": [
       "[9, 4]"
      ]
     },
     "execution_count": 184,
     "metadata": {},
     "output_type": "execute_result"
    }
   ],
   "source": [
    "solution(keymap, targets)"
   ]
  },
  {
   "cell_type": "code",
   "execution_count": null,
   "id": "029594ae-09d8-4274-934d-5038e7471b0d",
   "metadata": {},
   "outputs": [],
   "source": []
  }
 ],
 "metadata": {
  "kernelspec": {
   "display_name": "Python 3 (ipykernel)",
   "language": "python",
   "name": "python3"
  },
  "language_info": {
   "codemirror_mode": {
    "name": "ipython",
    "version": 3
   },
   "file_extension": ".py",
   "mimetype": "text/x-python",
   "name": "python",
   "nbconvert_exporter": "python",
   "pygments_lexer": "ipython3",
   "version": "3.9.12"
  }
 },
 "nbformat": 4,
 "nbformat_minor": 5
}
