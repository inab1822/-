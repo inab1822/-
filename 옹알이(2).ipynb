{
 "cells": [
  {
   "cell_type": "markdown",
   "id": "1b267b4d-bc9e-4669-8436-ef46f991a118",
   "metadata": {},
   "source": [
    "## 문제 설명\n",
    "- 머쓱이는 태어난 지 11개월 된 조카를 돌보고 있습니다. 조카는 아직 \"aya\", \"ye\", \"woo\", \"ma\" 네 가지 발음과 네 가지 발음을 조합해서 만들 수 있는 발음밖에 하지 못하고 연속해서 같은 발음을 하는 것을 어려워합니다. 문자열 배열 babbling이 매개변수로 주어질 때, 머쓱이의 조카가 발음할 수 있는 단어의 개수를 return하도록 solution 함수를 완성해주세요."
   ]
  },
  {
   "cell_type": "markdown",
   "id": "79ddc3a9-26ad-43df-857a-060a51fcb6ed",
   "metadata": {},
   "source": [
    "## 제한사항\n",
    "- 1 ≤ babbling의 길이 ≤ 100\n",
    "- 1 ≤ babbling[i]의 길이 ≤ 30\n",
    "- 문자열은 알파벳 소문자로만 이루어져 있습니다."
   ]
  },
  {
   "cell_type": "code",
   "execution_count": 64,
   "id": "85adab38-dd48-486d-840d-4007233f1c44",
   "metadata": {},
   "outputs": [],
   "source": [
    "# 입출력 예\n",
    "babbling = [\"ayaye\", \"uuu\", \"yeye\", \"yemawoo\", \"ayaayaa\"]\n",
    "babbling1 = [\"aya\", \"yee\", \"u\", \"maa\"]"
   ]
  },
  {
   "cell_type": "code",
   "execution_count": 66,
   "id": "c3c59c27-20b8-4545-b560-b3be437dad8a",
   "metadata": {},
   "outputs": [],
   "source": [
    "def solution(babbling):\n",
    "    \n",
    "    \n",
    "    # 머쓱이가 낼 수 있는 옹알이를 words에 리스트로 넣어놓는다.\n",
    "    words= [\"aya\", \"ye\", \"woo\", \"ma\"]\n",
    "    \n",
    "    answer = 0\n",
    "    # for문으로 babbling안에 있는 문자열 하나하나를 babbl에 저장한다.\n",
    "    for babbl in babbling:\n",
    "        # words에 있는 요소 하나하나를 word에 저장한다.\n",
    "        for word in words:\n",
    "            # 문제에서 연속해서 같은 발음을 하는 것은 불가능하기에\n",
    "            # word가 두번 babbl에 들어가지 않으면\n",
    "            if word*2 not in babbl:\n",
    "                # babbl에 word부분을 \" \"으로 replace한다.\n",
    "                babbl = babbl.replace(word,\" \")\n",
    "        # 그 후 babbl에 있는 모든 공백을 strip으로 날리고 \"\" 와 같아지면\n",
    "        if babbl.strip() == \"\":\n",
    "            # answer에 1을 더한다.\n",
    "            answer +=1\n",
    "    return answer"
   ]
  },
  {
   "cell_type": "code",
   "execution_count": 68,
   "id": "7edaac96-cc39-41fb-a9fa-e9a62cce5389",
   "metadata": {},
   "outputs": [
    {
     "name": "stdout",
     "output_type": "stream",
     "text": [
      "2\n",
      "1\n"
     ]
    }
   ],
   "source": [
    "print(solution(babbling))\n",
    "print(solution(babbling1))"
   ]
  },
  {
   "cell_type": "markdown",
   "id": "db05d4cf-8d12-41d1-a554-e78e15ab7d47",
   "metadata": {},
   "source": [
    "## 다른 사람의 풀이"
   ]
  },
  {
   "cell_type": "code",
   "execution_count": 71,
   "id": "5e77f235-ed38-4409-a4ef-8b7ad2f6f90a",
   "metadata": {},
   "outputs": [],
   "source": [
    "def solution(babbling):\n",
    "    count = 0\n",
    "    \n",
    "    # babbling에 있는 문자열 하나한를 b에 저장해 살펴본다.\n",
    "    for b in babbling:\n",
    "        # 만약 \"aya\", \"ye\", \"woo\", \"ma\" 들이 두번 연속 해서 나오지 않는다면 계속\n",
    "        if \"ayaaya\" in b or \"yeye\" in b or \"woowoo\" in b or \"mama\" in b:\n",
    "            continue\n",
    "        # 만약 \"aya\", \"ye\", \"woo\", \"ma\" 문자열 모두 공백으로 replace한 후 공백을 없애 버리면 False가 됨\n",
    "        # not을 붙여 반대로 True로 만들어 진다면\n",
    "        if not b.replace(\"aya\", \" \").replace(\"ye\", \" \").replace(\"woo\", \" \").replace(\"ma\", \" \").replace(\" \", \"\"):\n",
    "            # count에 1 추가\n",
    "            count += 1\n",
    "\n",
    "    return count"
   ]
  },
  {
   "cell_type": "code",
   "execution_count": 72,
   "id": "62fb7ea4-4490-48d9-aa7d-4a2655c4961e",
   "metadata": {},
   "outputs": [
    {
     "name": "stdout",
     "output_type": "stream",
     "text": [
      "2\n",
      "1\n"
     ]
    }
   ],
   "source": [
    "print(solution(babbling))\n",
    "print(solution(babbling1))"
   ]
  },
  {
   "cell_type": "code",
   "execution_count": null,
   "id": "9abfe013-587b-400a-82f0-dec8ca9be527",
   "metadata": {},
   "outputs": [],
   "source": []
  }
 ],
 "metadata": {
  "kernelspec": {
   "display_name": "Python 3 (ipykernel)",
   "language": "python",
   "name": "python3"
  },
  "language_info": {
   "codemirror_mode": {
    "name": "ipython",
    "version": 3
   },
   "file_extension": ".py",
   "mimetype": "text/x-python",
   "name": "python",
   "nbconvert_exporter": "python",
   "pygments_lexer": "ipython3",
   "version": "3.9.12"
  }
 },
 "nbformat": 4,
 "nbformat_minor": 5
}
