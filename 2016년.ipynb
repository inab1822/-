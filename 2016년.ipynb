{
 "cells": [
  {
   "cell_type": "markdown",
   "id": "9cb2c103-097f-4e5c-9857-f09912dc885e",
   "metadata": {},
   "source": [
    "## 문제 설명\n",
    "- 2016년 1월 1일은 금요일입니다. 2016년 a월 b일은 무슨 요일일까요? 두 수 a ,b를 입력받아 2016년 a월 b일이 무슨 요일인지 리턴하는 함수, solution을 완성하세요. 요일의 이름은 일요일부터 토요일까지 각각 `SUN,MON,TUE,WED,THU,FRI,SAT`입니다. 예를 들어 a=5, b=24라면 5월 24일은 화요일이므로 문자열 \"TUE\"를 반환하세요."
   ]
  },
  {
   "cell_type": "markdown",
   "id": "d03eb2e6-8495-4db7-a8e8-1a75cb13c1a6",
   "metadata": {},
   "source": [
    "## 제한 조건\n",
    "- 2016년은 윤년입니다.\n",
    "- 2016년 a월 b일은 실제로 있는 날입니다. (13월 26일이나 2월 45일같은 날짜는 주어지지 않습니다)"
   ]
  },
  {
   "cell_type": "code",
   "execution_count": 17,
   "id": "7d46cfe6-17ff-45a8-9974-72b087872bd6",
   "metadata": {},
   "outputs": [],
   "source": [
    "# 입출력 예\n",
    "a = 5\n",
    "b = 5\n",
    "# 'TUE'"
   ]
  },
  {
   "cell_type": "code",
   "execution_count": 18,
   "id": "bb354086-e23a-472e-a55d-52626113066c",
   "metadata": {},
   "outputs": [],
   "source": [
    "# python의 날짜 라이브러리를 불러온다\n",
    "from datetime import datetime, date\n",
    "\n",
    "def solution(a, b):\n",
    "    # 월~일요일 까지를 days에 리스트로 할당한다.\n",
    "    days = ['MON', 'TUE', 'WED', 'THU', 'FRI', 'SAT', 'SUN']\n",
    "    \n",
    "    # date의 weekday함수를 활용하여 2016년도의 a월 b일의 요일을 구한다.\n",
    "    # 이때 요일이 0~6까지 숫자로 나오기에\n",
    "    # days의 인덱싱으로 해당 요일을 구한다.\n",
    "    return days[date.weekday(date(2016,a,b))]"
   ]
  },
  {
   "cell_type": "code",
   "execution_count": 19,
   "id": "7420da25-ae5f-4d58-afc5-e1dcb89c13f9",
   "metadata": {},
   "outputs": [
    {
     "data": {
      "text/plain": [
       "'THU'"
      ]
     },
     "execution_count": 19,
     "metadata": {},
     "output_type": "execute_result"
    }
   ],
   "source": [
    "solution(a, b)"
   ]
  },
  {
   "cell_type": "markdown",
   "id": "4ab2a032-8465-4efd-9aea-e53bb5baadb7",
   "metadata": {},
   "source": [
    "## 다른 사람의 풀이"
   ]
  },
  {
   "cell_type": "code",
   "execution_count": 20,
   "id": "388eb669-32b3-4606-8f8f-785e8e122a83",
   "metadata": {},
   "outputs": [],
   "source": [
    "# 입출력 예\n",
    "a = 5\n",
    "b = 5\n",
    "# 'TUE'"
   ]
  },
  {
   "cell_type": "code",
   "execution_count": 24,
   "id": "a54bcdf8-722f-45bc-a11f-d93783661842",
   "metadata": {},
   "outputs": [
    {
     "name": "stdout",
     "output_type": "stream",
     "text": [
      "TUE\n"
     ]
    }
   ],
   "source": [
    "def getDayName(a,b):\n",
    "    answer = \"\"\n",
    "    if a>=2:\n",
    "        b+=31\n",
    "        if a>=3:\n",
    "            b+=29#2월\n",
    "            if a>=4:\n",
    "                b+=31#3월\n",
    "                if a>=5:\n",
    "                    b+=30#4월 # a가 5 -> 즉 5월 이기에 b + (31+29+31+30)이 실행된다.\n",
    "                    if a>=6:\n",
    "                        b+=31#5월\n",
    "                        if a>=7:\n",
    "                            b+=30#6월\n",
    "                            if a>=8:\n",
    "                                b+=31#7월\n",
    "                                if a>=9:\n",
    "                                    b+=31#8월\n",
    "                                    if a>=10:\n",
    "                                        b+=30#9월\n",
    "                                        if a>=11:\n",
    "                                            b+=31#10월\n",
    "                                            if a==12:\n",
    "                                                b+=30#11월\n",
    "    # 현제 a = 5\n",
    "    # b = 126 이다\n",
    "    # b를 일주일인 7로 나눈 후 나머지를 계산한다.\n",
    "    b=b%7\n",
    "    # 126 % 7 = 0 이다.\n",
    "\n",
    "    # 2016년 1월 1일이 금요일이기에\n",
    "    # b==1일때 금요일부터 시작한다.\n",
    "    if b==1:answer=\"FRI\"\n",
    "    elif b==2:answer=\"SAT\" \n",
    "    elif b==3:answer=\"SUN\"\n",
    "    elif b==4:answer=\"MON\"\n",
    "    elif b==5:answer=\"TUE\"\n",
    "    elif b==6:answer=\"WED\"\n",
    "    else:answer=\"THU\"\n",
    "    return answer\n",
    "\n",
    "\n",
    "print(getDayName(5,24))"
   ]
  },
  {
   "cell_type": "code",
   "execution_count": null,
   "id": "60688f5a-df3f-45fd-b036-7c5fd82cd0bd",
   "metadata": {},
   "outputs": [],
   "source": []
  }
 ],
 "metadata": {
  "kernelspec": {
   "display_name": "Python 3 (ipykernel)",
   "language": "python",
   "name": "python3"
  },
  "language_info": {
   "codemirror_mode": {
    "name": "ipython",
    "version": 3
   },
   "file_extension": ".py",
   "mimetype": "text/x-python",
   "name": "python",
   "nbconvert_exporter": "python",
   "pygments_lexer": "ipython3",
   "version": "3.9.12"
  }
 },
 "nbformat": 4,
 "nbformat_minor": 5
}
