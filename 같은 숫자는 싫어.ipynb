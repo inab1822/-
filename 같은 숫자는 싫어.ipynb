{
 "cells": [
  {
   "cell_type": "markdown",
   "id": "72655b2c-32c5-461e-8b97-34dfcd5227b0",
   "metadata": {},
   "source": [
    "## 문제 설명\n",
    "- 배열 arr가 주어집니다. 배열 arr의 각 원소는 숫자 0부터 9까지로 이루어져 있습니다. 이때, 배열 arr에서 연속적으로 나타나는 숫자는 하나만 남기고 전부 제거하려고 합니다. 단, 제거된 후 남은 수들을 반환할 때는 배열 arr의 원소들의 순서를 유지해야 합니다. 예를 들면,\n",
    "\n",
    "    - arr = [1, 1, 3, 3, 0, 1, 1] 이면 [1, 3, 0, 1] 을 return 합니다.\n",
    "    - arr = [4, 4, 4, 3, 3] 이면 [4, 3] 을 return 합니다.\n",
    "- 배열 arr에서 연속적으로 나타나는 숫자는 제거하고 남은 수들을 return 하는 solution 함수를 완성해 주세요.\n",
    "\n",
    "## 제한사항\n",
    "- 배열 arr의 크기 : 1,000,000 이하의 자연수\n",
    "- 배열 arr의 원소의 크기 : 0보다 크거나 같고 9보다 작거나 같은 정수"
   ]
  },
  {
   "cell_type": "code",
   "execution_count": 39,
   "id": "7124820d-fee7-401c-8226-a787307492bb",
   "metadata": {},
   "outputs": [],
   "source": [
    "arr = [1,1,3,3,0,1,1]"
   ]
  },
  {
   "cell_type": "code",
   "execution_count": 42,
   "id": "840f8b07-ad93-446a-83fa-40922cd8ec70",
   "metadata": {},
   "outputs": [],
   "source": [
    "def solution(arr):\n",
    "    answer = []\n",
    "    \n",
    "    # arr맨 뒤에 '끝'을 추가한다.\n",
    "    arr.append('끝')\n",
    "    \n",
    "    # arr의 길이가 '끝'을 추가하여 하나더 늘어낫기에\n",
    "    # len(arr)에서 1을 뺀 값을 범위로 잡는다\n",
    "    for i in range(len(arr)-1):\n",
    "        # 만약 arr의 i번째 인덱스와 그 다음 인덱스가 다르면\n",
    "        if arr[i] != arr[i+1]:\n",
    "            # answer에 마지막 요소에 추가한다\n",
    "            # 이때 맨 마지막은 '끝'이기에 무조건 다를 수 밖에 없으니\n",
    "            # '끝'바로 전 요소가 무조건 추가된다.\n",
    "            answer.append(arr[i])\n",
    "    return answer"
   ]
  },
  {
   "cell_type": "code",
   "execution_count": 43,
   "id": "171495c4-6609-4f31-9735-d77b994c91f2",
   "metadata": {},
   "outputs": [
    {
     "data": {
      "text/plain": [
       "[1, 3, 0, 1]"
      ]
     },
     "execution_count": 43,
     "metadata": {},
     "output_type": "execute_result"
    }
   ],
   "source": [
    "solution(arr)"
   ]
  },
  {
   "cell_type": "markdown",
   "id": "e783464d-e916-4ec3-a3c8-b62b24d9e146",
   "metadata": {},
   "source": [
    "## 다른 사람의 풀이"
   ]
  },
  {
   "cell_type": "code",
   "execution_count": 44,
   "id": "f24ba2bd-54c6-4b8b-b4bd-db1c3ccd9b2b",
   "metadata": {},
   "outputs": [],
   "source": [
    "arr = [1,1,3,3,0,1,1]"
   ]
  },
  {
   "cell_type": "code",
   "execution_count": 47,
   "id": "578aa823-0304-46d8-85c1-cf2fea16c0fb",
   "metadata": {},
   "outputs": [
    {
     "name": "stdout",
     "output_type": "stream",
     "text": [
      "[1, 3, 0, 1]\n"
     ]
    }
   ],
   "source": [
    "a = []\n",
    "# arr의 요소를 하나씩 i에 할당한다.\n",
    "for i in arr:\n",
    "    # a의 맨 마지막 요소가 i와 같으면 계속 진행\n",
    "    if a[-1:] == [i]: continue\n",
    "    # 아니면 i를 a의 마지막 요소로 집어 넣는다.\n",
    "    a.append(i)\n",
    "print(a)"
   ]
  },
  {
   "cell_type": "markdown",
   "id": "2e384bf1-13e2-4413-8ea9-ef0fcfae3f41",
   "metadata": {},
   "source": [
    "## 다른 사람의 풀이"
   ]
  },
  {
   "cell_type": "code",
   "execution_count": 48,
   "id": "2a0314f3-5c0f-4a6c-8015-324e12b73350",
   "metadata": {},
   "outputs": [
    {
     "name": "stdout",
     "output_type": "stream",
     "text": [
      "['1', '3', '0', '3']\n"
     ]
    }
   ],
   "source": [
    "def no_continuous(s):\n",
    "    \n",
    "    # 리스트 내 for 문으로 출력한다.\n",
    "    # s[i]를 출력하되\n",
    "    # s의 길이를 범위로한 i 값 중에\n",
    "    # s[i]가 s[i+1:i+2] 즉, 그 다음 요소와 비교해서 다른 것만 가지고 온다.\n",
    "    # 여기서 인덱싱과 달리 슬라이싱은 범위를 초과해도 오류가 뜨지 않는다.\n",
    "    return [s[i] for i in range(len(s)) if s[i] != s[i+1:i+2]]\n",
    "\n",
    "# 아래는 테스트로 출력해 보기 위한 코드입니다.\n",
    "print( no_continuous( \"133303\" ))"
   ]
  },
  {
   "cell_type": "code",
   "execution_count": null,
   "id": "1810f0dd-98f6-4648-a01b-eda10fbc9d10",
   "metadata": {},
   "outputs": [],
   "source": []
  }
 ],
 "metadata": {
  "kernelspec": {
   "display_name": "Python 3 (ipykernel)",
   "language": "python",
   "name": "python3"
  },
  "language_info": {
   "codemirror_mode": {
    "name": "ipython",
    "version": 3
   },
   "file_extension": ".py",
   "mimetype": "text/x-python",
   "name": "python",
   "nbconvert_exporter": "python",
   "pygments_lexer": "ipython3",
   "version": "3.9.12"
  }
 },
 "nbformat": 4,
 "nbformat_minor": 5
}
