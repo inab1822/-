{
 "cells": [
  {
   "cell_type": "markdown",
   "id": "143ccefa-2174-4b4d-84ef-c41488084f90",
   "metadata": {},
   "source": [
    "## 문제 설명\n",
    "- 숫자나라 기사단의 각 기사에게는 1번부터 number까지 번호가 지정되어 있습니다. 기사들은 무기점에서 무기를 구매하려고 합니다.\n",
    "\n",
    "- 각 기사는 자신의 기사 번호의 약수 개수에 해당하는 공격력을 가진 무기를 구매하려 합니다. 단, 이웃나라와의 협약에 의해 공격력의 제한수치를 정하고, 제한수치보다 큰 공격력을 가진 무기를 구매해야 하는 기사는 협약기관에서 정한 공격력을 가지는 무기를 구매해야 합니다.\n",
    "\n",
    "- 예를 들어, 15번으로 지정된 기사단원은 15의 약수가 1, 3, 5, 15로 4개 이므로, 공격력이 4인 무기를 구매합니다. 만약, 이웃나라와의 협약으로 정해진 공격력의 제한수치가 3이고 제한수치를 초과한 기사가 사용할 무기의 공격력이 2라면, 15번으로 지정된 기사단원은 무기점에서 공격력이 2인 무기를 구매합니다. 무기를 만들 때, 무기의 공격력 1당 1kg의 철이 필요합니다. 그래서 무기점에서 무기를 모두 만들기 위해 필요한 철의 무게를 미리 계산하려 합니다.\n",
    "\n",
    "- 기사단원의 수를 나타내는 정수 number와 이웃나라와 협약으로 정해진 공격력의 제한수치를 나타내는 정수 limit와 제한수치를 초과한 기사가 사용할 무기의 공격력을 나타내는 정수 power가 주어졌을 때, 무기점의 주인이 무기를 모두 만들기 위해 필요한 철의 무게를 return 하는 solution 함수를 완성하시오."
   ]
  },
  {
   "cell_type": "markdown",
   "id": "e689c464-eca3-4722-9803-b696cfd4b99d",
   "metadata": {},
   "source": [
    "## 제한사항\n",
    "- 1 ≤ number ≤ 100,000\n",
    "- 2 ≤ limit ≤ 100\n",
    "- 1 ≤ power ≤ limit"
   ]
  },
  {
   "cell_type": "code",
   "execution_count": 34,
   "id": "6151b298-3acf-40d7-b98d-25eb1cc47942",
   "metadata": {},
   "outputs": [],
   "source": [
    "number = 5\n",
    "limit = 3\n",
    "power = 2\n",
    "# 결과는 10이 나와야 한다.\n",
    "number1 = 10\n",
    "limit1 = 3\n",
    "power1 = 2\n",
    "# 결과는 21이 나와야 한다."
   ]
  },
  {
   "cell_type": "code",
   "execution_count": 43,
   "id": "6514be4c-64ec-4977-916b-1f7d86d3a58e",
   "metadata": {},
   "outputs": [],
   "source": [
    "def solution(number, limit, power):\n",
    "    # 결과를 출력할 answer을 만든다\n",
    "    answer = 0\n",
    "    \n",
    "    # number의 범위 안에 있는 모든 수의 약수를 구해야 한다.\n",
    "    # range를 사용해 for문을 돌린다.\n",
    "    for num in range(1,number+1):\n",
    "        # 두 임의의 리스트를 만든다.\n",
    "        divisors = []\n",
    "        divisors_back = []\n",
    "        \n",
    "        # number까지의 범위 중 한 수인 num의 약수를 구한다.\n",
    "        # 이때 num이 아주 큰 수 이면 약수를 구할때 시간복잡도가 커진다.\n",
    "        # 그래서 해당 수의 제곱근의 약수를 구한다.\n",
    "        for i in range(1, int(num**(1/2)) +1):\n",
    "            # 만약 num범위의 수들 중 나눠서 나머지가 0이되는 수 i를\n",
    "            if num % i == 0:\n",
    "                # divisors에 마지막 요소로 집어 넣는다.\n",
    "                divisors.append(i)\n",
    "                # 이때 num을 i로 나눈 후 몫이 i랑 같지 않으면\n",
    "                if i != (num//i):\n",
    "                    # divisors_back에 그 몫 값을 마지막 요소로 집어 넣는다.\n",
    "                    divisors_back.append(num//i)\n",
    "                    \n",
    "        # 그 후 divisors와 divisors_back[::-1]을 더하면 해당 수의 약수가 된다.\n",
    "        # 위 제곱근을 사용하는 방법을 아래에서 자세히 다루도록 하자.\n",
    "        \n",
    "        # 만약 divisors + divisors_back[::-1]의 길이가 limit보다 길다면\n",
    "        # 즉 기사단원의 공격력이 limit보다 크다면\n",
    "        if len(divisors + divisors_back[::-1]) > limit:\n",
    "            # answer에 power값을 더해 주고\n",
    "            answer += power\n",
    "        # 그렇지 않다면\n",
    "        # 즉, 기사단원의 공격력이 limit보다 같거나 작다면\n",
    "        else:\n",
    "            # answer에 divisors + divisors_back[::-1]의 길이 값을 더해 준다.\n",
    "            answer += len(divisors + divisors_back[::-1])\n",
    "    return answer"
   ]
  },
  {
   "cell_type": "code",
   "execution_count": 36,
   "id": "11e2af89-9fb7-4c77-bb30-5b3c9ad9fe0d",
   "metadata": {},
   "outputs": [
    {
     "name": "stdout",
     "output_type": "stream",
     "text": [
      "10\n",
      "21\n"
     ]
    }
   ],
   "source": [
    "print(solution(number, limit, power))\n",
    "print(solution(number1, limit1, power1))"
   ]
  },
  {
   "cell_type": "markdown",
   "id": "5fa199f4-4af5-459a-b742-16434bac119d",
   "metadata": {},
   "source": [
    "### 약수 구하는 법"
   ]
  },
  {
   "cell_type": "code",
   "execution_count": 46,
   "id": "beda5921-db30-4d83-8409-6bcf59fa4673",
   "metadata": {},
   "outputs": [],
   "source": [
    "# 100의 약수를 구해보자.\n",
    "\n",
    "# 약수를 구할 100을 n에 할당한다.\n",
    "n = 100\n",
    "\n",
    "# 약수를 집어넣을 divisors와 divisors_back 리스트를 만든다.\n",
    "divisors = []\n",
    "divisors_back = [] \n",
    "\n",
    "# for문을 돌려 n의 제곱근의 범위 만큼 i를 할당한다.\n",
    "# 여기서 아래의 for문은 `for i in range(1, 11):` 과 같다.\n",
    "for i in range(1, int(n**(1/2)) + 1):\n",
    "    \n",
    "    # i는 1,2,3,4,5,6,7,8,9,10 의 값들이 하나하나 들어간다.\n",
    "    # 위 값들 중 n 즉, 100을 나눴을 때 나머지가 0이 되는 값들은\n",
    "    if (n % i == 0):\n",
    "        # divisors에 마지막 요소로 들어간다.\n",
    "        # 여기서는 1, 2, 4, 5, 10 이 100을 나눴을 때 나머지가 0이 되므로\n",
    "        # divisors에 들어갈 값은 1, 2, 4, 5, 10이다.\n",
    "        divisors.append(i)\n",
    "        \n",
    "        # divisors에 들어갈 i값들 중\n",
    "        # 만약 n 즉 100을 i로 나눈 후 몫의 값이 i와 같지 않다면\n",
    "        if (i != (n // i)): \n",
    "            # 100을 i로 나눈 후 몫의 값을 divisors_back에 마지막 요소로 집어 넣는다.\n",
    "            divisors_back.append(n//i)\n",
    "        # 위 if 문을 하는 이유는\n",
    "        # 만약 i값이 1, 2, 4, 5, 10중에 하나인 10이라고 가정해 보자\n",
    "        # n값인 100을 10으로 나눈 후 몫의 값은 10이다.\n",
    "        # 즉 i값과 n//i 값이 같은 경우이다.\n",
    "        # divisors_back에 10이 들어가게 되면\n",
    "        # divisors와 divisors_back 두 리스트 모두 10 값을 갖게 된다.\n",
    "        # 그 후 divisors와 divisors_back[::-1]을 합하면\n",
    "        # [1, 2, 4, 5, 10, 10, 20, 25, 50, 100] 처럼 10이 중복으로 들어가게 된다.\n",
    "        # 이때 set으로 중복을 제거해주는 방법도 있지만\n",
    "        # 이 경우에서 아예 중복되는 값을 집어넣지 않은 경우이다."
   ]
  },
  {
   "cell_type": "code",
   "execution_count": 48,
   "id": "549d3e78-301a-4974-b3f7-21919401462d",
   "metadata": {},
   "outputs": [
    {
     "data": {
      "text/plain": [
       "[1, 2, 4, 5, 10, 20, 25, 50, 100]"
      ]
     },
     "execution_count": 48,
     "metadata": {},
     "output_type": "execute_result"
    }
   ],
   "source": [
    "# divisors와 divisors_back[::-1]을 더하면 100의 약수들이 출력된다.\n",
    "divisors + divisors_back[::-1]"
   ]
  },
  {
   "cell_type": "markdown",
   "id": "2a21c1c5-8e33-4ec6-a1a2-a26333b311ef",
   "metadata": {},
   "source": [
    "## 다른 사람의 풀이"
   ]
  },
  {
   "cell_type": "code",
   "execution_count": 52,
   "id": "af4cdfb3-3611-4622-9019-29b99d61daac",
   "metadata": {},
   "outputs": [],
   "source": [
    "# 함수 cf는 n의 약수의 개수를 출력해주는 함수이다.\n",
    "def cf(n):\n",
    "    \n",
    "    # 리스트 a변수를 만든다.\n",
    "    a = []\n",
    "    \n",
    "    # n의 제곱근의 범위 만큼만 for문을 돌린다.\n",
    "    for i in range(1,int(n**0.5)+1):\n",
    "        # n을 i로 나눈 나머지 값이 0이면\n",
    "        if n%i == 0:\n",
    "            # i값과 n을 i로 나눈 몫값을 a에 마지막 요소로 집어 넣는다.\n",
    "            a.append(n//i)\n",
    "            a.append(i)\n",
    "    # 그 후 set을 사용해 a에 중복 요소를 제거한 후 그 길이를 return한다.\n",
    "    return len(set(a))\n",
    " \n",
    "def solution(number, limit, power):\n",
    "    # if를 같이 사용한 리스트 내 for문으로 바로 return한다.\n",
    "    # 1부터 number안의 정수들을 함수 cf(i)로 출력된 값만 리스트로 집어 넣는다\n",
    "    # 단 limit 이하인 cf(i) 값만 그대로 집어 넣고\n",
    "    # limit 초과인 cf(i)값은 cf(i)값 대신 power값을 집어넣는다.\n",
    "    # 그 후 리스트 내의 모든 요소를 다 더한 값을 출력한다.\n",
    "    return sum([cf(i) if cf(i)<=limit else power for i in range(1,number+1)])"
   ]
  },
  {
   "cell_type": "code",
   "execution_count": 54,
   "id": "f5b49871-424d-4587-92d2-a773587dc6c2",
   "metadata": {},
   "outputs": [
    {
     "name": "stdout",
     "output_type": "stream",
     "text": [
      "10\n",
      "21\n"
     ]
    }
   ],
   "source": [
    "print(solution(number, limit, power))\n",
    "print(solution(number1, limit1, power1))"
   ]
  }
 ],
 "metadata": {
  "kernelspec": {
   "display_name": "Python 3 (ipykernel)",
   "language": "python",
   "name": "python3"
  },
  "language_info": {
   "codemirror_mode": {
    "name": "ipython",
    "version": 3
   },
   "file_extension": ".py",
   "mimetype": "text/x-python",
   "name": "python",
   "nbconvert_exporter": "python",
   "pygments_lexer": "ipython3",
   "version": "3.9.12"
  }
 },
 "nbformat": 4,
 "nbformat_minor": 5
}
