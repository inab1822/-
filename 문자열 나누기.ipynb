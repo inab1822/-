{
 "cells": [
  {
   "cell_type": "markdown",
   "id": "c4732dc8-60ce-45d6-9656-93c81e898546",
   "metadata": {},
   "source": [
    "## 문제 설명\n",
    "- 문자열 s가 입력되었을 때 다음 규칙을 따라서 이 문자열을 여러 문자열로 분해하려고 합니다.\n",
    "\n",
    "    - 먼저 첫 글자를 읽습니다. 이 글자를 x라고 합시다.\n",
    "    - 이제 이 문자열을 왼쪽에서 오른쪽으로 읽어나가면서, x와 x가 아닌 다른 글자들이 나온 횟수를 각각 셉니다. 처음으로 두 횟수가 같아지는 순간 멈추고, 지금까지 읽은 문자열을 분리합니다.\n",
    "    - s에서 분리한 문자열을 빼고 남은 부분에 대해서 이 과정을 반복합니다. 남은 부분이 없다면 종료합니다.\n",
    "    - 만약 두 횟수가 다른 상태에서 더 이상 읽을 글자가 없다면, 역시 지금까지 읽은 문자열을 분리하고, 종료합니다.\n",
    "- 문자열 s가 매개변수로 주어질 때, 위 과정과 같이 문자열들로 분해하고, 분해한 문자열의 개수를 return 하는 함수 solution을 완성하세요.\n",
    "\n"
   ]
  },
  {
   "cell_type": "markdown",
   "id": "bc25f4a3-81a6-4c57-b260-f545a65f2bb9",
   "metadata": {},
   "source": [
    "## 제한사항\n",
    "- 1 ≤ s의 길이 ≤ 10,000\n",
    "- s는 영어 소문자로만 이루어져 있습니다."
   ]
  },
  {
   "cell_type": "code",
   "execution_count": 119,
   "id": "9cb794d1-e41d-4e13-9fe8-dba67cc0daa4",
   "metadata": {},
   "outputs": [],
   "source": [
    "s = \"banana\"\n",
    "s1 = \"abracadabra\"\n",
    "s2 = \"aaabbaccccabba\"\n",
    "s3 = 'aaa'\n",
    "\n",
    "# 위에서 부터 각각 3, 6, 3, 1이 나와야한다."
   ]
  },
  {
   "cell_type": "code",
   "execution_count": 124,
   "id": "ae255df4-a8b5-4f4c-976f-7d83f3d64767",
   "metadata": {},
   "outputs": [],
   "source": [
    "def solution(s):\n",
    "    answer = 0\n",
    "    \n",
    "    # s를 리스트로 만든다.\n",
    "    s = list(s)\n",
    "    \n",
    "    # 같은 요소를 넣을 same과 다른 요소를 넣을 dif를 만든다.\n",
    "    same = []\n",
    "    dif = []\n",
    "    \n",
    "    # s가 True 즉 존재하면 계속 반복한다.\n",
    "    while s:\n",
    "        # s의 맨 처음 요소를 same에 pop하여 집어넣는다.\n",
    "        # 이때 s의 맨 처음 요소는 사라진다.\n",
    "        same.append(s.pop(0))\n",
    "        \n",
    "        # s의 길이만큼 반복한다.\n",
    "        # 이때 변수가 필요 없으므로 \"_\"를 사용한다.\n",
    "        for _ in range(len(s)):\n",
    "            \n",
    "            # 만약 same과 dif의 길이가 같으면 반복을 종료한다.\n",
    "            if len(same) == len(dif):\n",
    "                break\n",
    "            # 만약 s의 첫번째 요소와 same의 첫번째 요소가 같으면\n",
    "            # same의 마지막요소로 집어넣는다.\n",
    "            # 이때 s의 첫요로를 pop해서 가져오므로 s의 첫 요소는 사라진다.\n",
    "            elif s[0] == same[0]:\n",
    "                same.append(s.pop(0))\n",
    "            # 만약 s의 첫번째 요소와 same의 첫번째 요소가 다르면\n",
    "            # dif의 마지막요소로 집어넣는다.\n",
    "            # 이때 s의 첫요로를 pop해서 가져오므로 s의 첫 요소는 사라진다.    \n",
    "            elif s[0] != same[0]:\n",
    "                dif.append(s.pop(0))\n",
    "                \n",
    "        # same과 dif의 길이가 같아 반복이 종료되면\n",
    "        # same과 dif의 요소를 모두 제거한다.\n",
    "        same.clear()\n",
    "        dif.clear()\n",
    "        # answer에 1을 더한다.\n",
    "        answer += 1\n",
    "        # 다시 while시작 지점으로 가는데\n",
    "        # 만약 s가 존재하면 계속 while을 반복하고\n",
    "        # s가 존재하지 않으면 while을 종료한다.\n",
    "    return answer"
   ]
  },
  {
   "cell_type": "code",
   "execution_count": 126,
   "id": "4432d20f-cd4a-44c2-990e-5964f3059617",
   "metadata": {},
   "outputs": [
    {
     "name": "stdout",
     "output_type": "stream",
     "text": [
      "3\n",
      "6\n",
      "3\n",
      "1\n"
     ]
    }
   ],
   "source": [
    "# 함수를 실행하면 예측한 값이 정상 출력된다.\n",
    "print(solution(s))\n",
    "print(solution(s1))\n",
    "print(solution(s2))\n",
    "print(solution(s3))"
   ]
  },
  {
   "cell_type": "markdown",
   "id": "90802a0e-3e5c-4b0d-8efe-e63744d79b4b",
   "metadata": {},
   "source": [
    "## 다른 사람의 풀이"
   ]
  },
  {
   "cell_type": "code",
   "execution_count": 127,
   "id": "10565e2a-1c44-4ced-8f47-bde2a89839e6",
   "metadata": {},
   "outputs": [],
   "source": [
    "def solution(s):\n",
    "    answer = 0\n",
    "    \n",
    "    # sav1과 sav2변수를 만듭니다.\n",
    "    sav1=0\n",
    "    sav2=0\n",
    "    \n",
    "    # for문을 돌려 s의 요소 하나하나를 i에 집어넣어 반복 실행 합니다.\n",
    "    for i in s:\n",
    "        \n",
    "        # 만약 sav1과 sav2가 같다면\n",
    "        if sav1==sav2:\n",
    "            # asnwer에 1을 더하고\n",
    "            answer+=1\n",
    "            # i의 값을 a라는 변수를 만들어 집어 넣습니다.\n",
    "            a=i\n",
    "        # 만약 i와 a가 같다면\n",
    "        if i==a:\n",
    "            # sav1에 1을 더하고\n",
    "            sav1+=1\n",
    "        # 같지 않다면\n",
    "        else:\n",
    "            # sav2에 1을 더합니다.\n",
    "            sav2+=1\n",
    "    return answer"
   ]
  },
  {
   "cell_type": "code",
   "execution_count": 128,
   "id": "67c8e68c-b0ba-40ef-8461-3fe56d5da266",
   "metadata": {},
   "outputs": [
    {
     "name": "stdout",
     "output_type": "stream",
     "text": [
      "3\n",
      "6\n",
      "3\n",
      "1\n"
     ]
    }
   ],
   "source": [
    "print(solution(s))\n",
    "print(solution(s1))\n",
    "print(solution(s2))\n",
    "print(solution(s3))"
   ]
  },
  {
   "cell_type": "code",
   "execution_count": null,
   "id": "34c4fb0f-da77-4c46-9236-c306ce62580c",
   "metadata": {},
   "outputs": [],
   "source": []
  }
 ],
 "metadata": {
  "kernelspec": {
   "display_name": "Python 3 (ipykernel)",
   "language": "python",
   "name": "python3"
  },
  "language_info": {
   "codemirror_mode": {
    "name": "ipython",
    "version": 3
   },
   "file_extension": ".py",
   "mimetype": "text/x-python",
   "name": "python",
   "nbconvert_exporter": "python",
   "pygments_lexer": "ipython3",
   "version": "3.9.12"
  }
 },
 "nbformat": 4,
 "nbformat_minor": 5
}
