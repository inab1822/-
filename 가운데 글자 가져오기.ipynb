{
 "cells": [
  {
   "cell_type": "markdown",
   "id": "095fbb2a-8367-411a-a20f-65697c2425cc",
   "metadata": {},
   "source": [
    "## 문제 설명\n",
    "- 단어 s의 가운데 글자를 반환하는 함수, solution을 만들어 보세요. 단어의 길이가 짝수라면 가운데 두글자를 반환하면 됩니다.\n",
    "\n",
    "## 재한사항\n",
    "- s는 길이가 1 이상, 100이하인 스트링입니다."
   ]
  },
  {
   "cell_type": "code",
   "execution_count": 40,
   "id": "66790b60-d921-4d42-a3e7-4cf248e985a4",
   "metadata": {},
   "outputs": [],
   "source": [
    "# 입출력 예\n",
    "s = 'abcde'\n",
    "# str = 'qwer'"
   ]
  },
  {
   "cell_type": "code",
   "execution_count": 43,
   "id": "90892df2-b1c5-4460-94b0-7a6b54dd36e5",
   "metadata": {},
   "outputs": [],
   "source": [
    "def solution(s):\n",
    "    answer = ''\n",
    "    # 만약 s의 길이가 홀수이면\n",
    "    if len(s) % 2 == 1:\n",
    "        # s의 길이의 반을 구하고 int로 소수점 부분을 없앤후\n",
    "        # s를 인덱싱하여 출력\n",
    "        answer = s[int(len(s)/2)]\n",
    "    \n",
    "    # 만약 s의 길이가 짝수 이면\n",
    "    elif len(s) % 2 ==0:\n",
    "        # s의 길이의 반에서 1을 뺀 후 int로 정수부분 부터\n",
    "        # 그 다음 까지 슬라이싱으로 출력\n",
    "        answer = s[int(len(s)/2-1):int(len(s)/2)+1]\n",
    "    return answer"
   ]
  },
  {
   "cell_type": "code",
   "execution_count": 44,
   "id": "29ac27ae-b397-45cb-8bf1-6e10dad3ad96",
   "metadata": {},
   "outputs": [
    {
     "data": {
      "text/plain": [
       "'c'"
      ]
     },
     "execution_count": 44,
     "metadata": {},
     "output_type": "execute_result"
    }
   ],
   "source": [
    "solution(s)"
   ]
  },
  {
   "cell_type": "markdown",
   "id": "ab5d5ab1-1444-4e73-bd47-6d7ecc06c37a",
   "metadata": {},
   "source": [
    "## 다른 사람의 풀이"
   ]
  },
  {
   "cell_type": "code",
   "execution_count": 35,
   "id": "ae70bd35-7326-4012-a832-23a9e837e9fb",
   "metadata": {},
   "outputs": [],
   "source": [
    "# 입출력 예\n",
    "# s = 'abcde'\n",
    "str = 'qwer'"
   ]
  },
  {
   "cell_type": "code",
   "execution_count": 45,
   "id": "d5b1401a-6d28-4cc0-bbe5-39c5c482663d",
   "metadata": {},
   "outputs": [],
   "source": [
    "def string_middle(str):\n",
    "    # 슬라이싱은 [start:end] start인덱스 값 부터 end앞의 인덱스 값까지 가져온다\n",
    "    # str길이의 -1 값을 2로 나눈 후의 몫에 해당하는 인덱스 부터\n",
    "    # str의 길이를 2로 나눈 후의 몫에 해당하는 인덱스의 앞부분 까지 슬라이싱한다.\n",
    "    # 'abcde'를 예로들면\n",
    "    # 길이가 5 -> (len(str)-1)//2 = 2, len(str)//2 + 1 = 3\n",
    "    # 즉 str[2:3] = c 를 출력한다.\n",
    "    \n",
    "    # 'qwer'을 예로 들면\n",
    "    # 길이가 4 -> (len(str)-1)//2 = 1, len(str)//2 + 1 = 3\n",
    "    # 즉 str[1:3] = we를 출력한다.\n",
    "    return str[(len(str)-1)//2 : len(str)//2 + 1]"
   ]
  },
  {
   "cell_type": "code",
   "execution_count": 46,
   "id": "ff496321-c4fc-4330-b47c-ccb6fb018386",
   "metadata": {},
   "outputs": [
    {
     "data": {
      "text/plain": [
       "'we'"
      ]
     },
     "execution_count": 46,
     "metadata": {},
     "output_type": "execute_result"
    }
   ],
   "source": [
    "string_middle(str)"
   ]
  },
  {
   "cell_type": "code",
   "execution_count": null,
   "id": "0f665ef1-9635-4a20-855f-cfa19dcd744c",
   "metadata": {},
   "outputs": [],
   "source": []
  }
 ],
 "metadata": {
  "kernelspec": {
   "display_name": "Python 3 (ipykernel)",
   "language": "python",
   "name": "python3"
  },
  "language_info": {
   "codemirror_mode": {
    "name": "ipython",
    "version": 3
   },
   "file_extension": ".py",
   "mimetype": "text/x-python",
   "name": "python",
   "nbconvert_exporter": "python",
   "pygments_lexer": "ipython3",
   "version": "3.9.12"
  }
 },
 "nbformat": 4,
 "nbformat_minor": 5
}
