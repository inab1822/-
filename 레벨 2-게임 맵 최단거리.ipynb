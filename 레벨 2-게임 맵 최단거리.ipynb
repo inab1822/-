{
 "cells": [
  {
   "attachments": {
    "a1e1e0d4-e587-4495-a10a-284ce8774bea.png": {
     "image/png": "[encoded data removed]"
    }
   },
   "cell_type": "markdown",
   "id": "cdf06b57-7992-4f0e-b4c8-5cc2830175cb",
   "metadata": {},
   "source": [
    "## 문제 설명\n",
    "- ROR 게임은 두 팀으로 나누어서 진행하며, 상대 팀 진영을 먼저 파괴하면 이기는 게임입니다. 따라서, 각 팀은 상대 팀 진영에 최대한 빨리 도착하는 것이 유리합니다.\n",
    "\n",
    "- 지금부터 당신은 한 팀의 팀원이 되어 게임을 진행하려고 합니다. 다음은 5 x 5 크기의 맵에, 당신의 캐릭터가 (행: 1, 열: 1) 위치에 있고, 상대 팀 진영은 (행: 5, 열: 5) 위치에 있는 경우의 예시입니다.\n",
    "\n",
    "![image.png](attachment:a1e1e0d4-e587-4495-a10a-284ce8774bea.png)"
   ]
  },
  {
   "attachments": {
    "4f0aec31-4a23-4821-8dff-35ae8f5643c2.png": {
     "image/png": "[encoded data removed]"
    },
    "bb200170-43ab-464e-b080-aa4155161086.png": {
     "image/png": "[encoded data removed]"
    },
    "c95f2656-72a0-45a2-b423-a617368911ad.png": {
     "image/png": "[encoded data removed]"
    }
   },
   "cell_type": "markdown",
   "id": "b9ec14c8-6cca-4ec8-b062-27a02e7db557",
   "metadata": {},
   "source": [
    "- 위 그림에서 검은색 부분은 벽으로 막혀있어 갈 수 없는 길이며, 흰색 부분은 갈 수 있는 길입니다. 캐릭터가 움직일 때는 동, 서, 남, 북 방향으로 한 칸씩 이동하며, 게임 맵을 벗어난 길은 갈 수 없습니다.\n",
    "아래 예시는 캐릭터가 상대 팀 진영으로 가는 두 가지 방법을 나타내고 있습니다.\n",
    "\n",
    "    - 첫 번째 방법은 11개의 칸을 지나서 상대 팀 진영에 도착했습니다.\n",
    "\n",
    "![image.png](attachment:bb200170-43ab-464e-b080-aa4155161086.png)\n",
    "\n",
    "\n",
    "    - 두 번째 방법은 15개의 칸을 지나서 상대팀 진영에 도착했습니다.\n",
    "    \n",
    "![image.png](attachment:4f0aec31-4a23-4821-8dff-35ae8f5643c2.png)\n",
    "\n",
    "\n",
    "- 위 예시에서는 첫 번째 방법보다 더 빠르게 상대팀 진영에 도착하는 방법은 없으므로, 이 방법이 상대 팀 진영으로 가는 가장 빠른 방법입니다.\n",
    "\n",
    "- 만약, 상대 팀이 자신의 팀 진영 주위에 벽을 세워두었다면 상대 팀 진영에 도착하지 못할 수도 있습니다. 예를 들어, 다음과 같은 경우에 당신의 캐릭터는 상대 팀 진영에 도착할 수 없습니다.\n",
    "\n",
    "![image.png](attachment:c95f2656-72a0-45a2-b423-a617368911ad.png)\n",
    "\n",
    "- 게임 맵의 상태 maps가 매개변수로 주어질 때, 캐릭터가 상대 팀 진영에 도착하기 위해서 지나가야 하는 칸의 개수의 최솟값을 return 하도록 solution 함수를 완성해주세요. 단, 상대 팀 진영에 도착할 수 없을 때는 -1을 return 해주세요."
   ]
  },
  {
   "cell_type": "markdown",
   "id": "9a3c5b56-36eb-45ed-91c1-c8714a4ad24f",
   "metadata": {},
   "source": [
    "## 제한사항\n",
    "- maps는 n x m 크기의 게임 맵의 상태가 들어있는 2차원 배열로, n과 m은 각각 1 이상 100 이하의 자연수입니다.\n",
    "    - n과 m은 서로 같을 수도, 다를 수도 있지만, n과 m이 모두 1인 경우는 입력으로 주어지지 않습니다.\n",
    "- maps는 0과 1로만 이루어져 있으며, 0은 벽이 있는 자리, 1은 벽이 없는 자리를 나타냅니다.\n",
    "- 처음에 캐릭터는 게임 맵의 좌측 상단인 (1, 1) 위치에 있으며, 상대방 진영은 게임 맵의 우측 하단인 (n, m) 위치에 있습니다."
   ]
  },
  {
   "cell_type": "code",
   "execution_count": 7,
   "id": "9e1a15e8-2358-40f3-9918-53d687f9b38b",
   "metadata": {},
   "outputs": [],
   "source": [
    "maps = [[1,0,1,1,1],\n",
    "        [1,0,1,0,1],\n",
    "        [1,0,1,1,1],\n",
    "        [1,1,1,0,1],\n",
    "        [0,0,0,0,1]]\n",
    "# maps의 결과는 11이 나와야 합니다.\n",
    "\n",
    "# maps1 = [[1,0,1,1,1],[1,0,1,0,1],[1,0,1,1,1],[1,1,1,0,0],[0,0,0,0,1]]\n",
    "# maps1의 결과는 -1이 나와야 합니다."
   ]
  },
  {
   "cell_type": "code",
   "execution_count": 8,
   "id": "788a179f-155b-4fad-acbc-d7680fa11aa9",
   "metadata": {},
   "outputs": [],
   "source": [
    "def solution(maps):\n",
    "    \n",
    "    # 현제 위치에서 상, 하, 좌, 우를 모두 들여다보고 계산해야합니다.\n",
    "    # d_row와 d_col을 통해 들여다 봅니다.\n",
    "    d_row = [ -1, 1,  0, 0 ]\n",
    "    d_col = [  0, 0, -1, 1 ]\n",
    "    \n",
    "    # 상대방 진영은 항상 맵의 우측 하단에 위치합니다.\n",
    "    # maps의 길이와 maps[0]의 길이로 maps의 행과 열을 알 수 있습니다.\n",
    "    n = len(maps)\n",
    "    m = len(maps[0])\n",
    "    \n",
    "    # queue라는 리스트를 만들어 줍니다.\n",
    "    queue = list()\n",
    "    \n",
    "    # 항상 처음 시작은 maps의 좌측 상단입니다.\n",
    "    # maps[0][0] 에서 시작하기에 queue에 0,0을 튜플로 집어 넣습니다.\n",
    "    # queue = (0,0) 으로 시작합니다.\n",
    "    queue.append( (0,0) )\n",
    "\n",
    "    # while문으로 queue가 True일때 계속 반복 합니다.\n",
    "    # 즉 queue의 요소가 존재하지 않으면 해당 while문은 종료 됩니다.\n",
    "    while queue:\n",
    "        \n",
    "        # queue의 첫번째 요소를 빼내 row와 col에 할당합니다.\n",
    "        # queue는 0,0의 튜플로 들어가 있기에 row와 col에 각각 0이 들어갑니다.\n",
    "        row, col = queue.pop(0)\n",
    "        \n",
    "        \n",
    "        # for문을 돌려 maps에 row와 col의 위치에서\n",
    "        # 상, 하, 좌, 우를 하나씩 들여다 봅니다.\n",
    "        for i in range(4):\n",
    "            \n",
    "            # 이때 현재 위치 row,col에 d_row[i], d_col[i]가 각각 더해져서\n",
    "            # 상, 하, 좌, 우인 c_row, c_col이 됩니다.\n",
    "            c_row = row + d_row[i]\n",
    "            c_col = col + d_col[i]\n",
    "            \n",
    "            # c_row, c_col의 위치는 해당 maps의 범위를 벗어나선 안됩니다.\n",
    "            # is_out변수를 만들어 maps를 벗어나는 경우를 만들어 이 중 하나라도\n",
    "            # 해당되면 is_out에 값이 들어가게 됩니다.\n",
    "            is_out = any( [ c_row < 0, c_row >= n, c_col < 0, c_col >= m ] )\n",
    "            \n",
    "            # 현재 위치에서 상, 하, 좌, 우를 돌려보면서\n",
    "            \n",
    "            # 만약 is_out에 값이 들어간 True라면 maps의 범위를 벗어났다는 말이 되므로\n",
    "            # continue로 그냥 넘어갑니다. \n",
    "            if is_out :\n",
    "                continue\n",
    "                \n",
    "            # 문제에서 0인 곳은 벽이 있는 자리입니다.\n",
    "            # 벽이있는 자리는 갈 수 없으므로\n",
    "            # 상, 하, 좌, 우를 하나씩 들여다 보며 0이있으면 continue로 그냥 넘어갑니다.\n",
    "            if maps[c_row][c_col] == 0:\n",
    "                continue \n",
    "                \n",
    "            # 만약 상, 하, 좌, 우를 살펴보다가 1이 감지되면\n",
    "            if maps[c_row][c_col] == 1:\n",
    "                # 이동하기 전 위치의 값에 1을 더한값을 이동한 위치에 1대신 집어 넣습니다.\n",
    "                maps[c_row][c_col] = maps[row][col] + 1\n",
    "                \n",
    "                # 그리고 이동한 위치의 위치 값을 queue에 집어넣습니다.\n",
    "                queue.append( (c_row, c_col) )\n",
    "            # 한 위치의 상, 하, 좌, 우 탐색이 끝났으면 다음 위치로 넘어 갑니다.\n",
    "    \n",
    "    # 만약 maps의 맨 우측 하단의 값이 1이 아니면\n",
    "    # 시작위치에서 마지막위치 까지 찾아 왔다는 뜻이므로 maps의 우측하단의 값을 출력합니다.\n",
    "    # 하지만 그대로 1이면 상대팀 진영에 도착하지 못했다는 뜻이므로\n",
    "    # -1을 배출합니다.\n",
    "    return maps[n-1][m-1] if  maps[n-1][m-1] != 1 else -1"
   ]
  },
  {
   "cell_type": "code",
   "execution_count": 3,
   "id": "7a44fd25-3fcc-44c4-834a-78348377a9dc",
   "metadata": {},
   "outputs": [
    {
     "data": {
      "text/plain": [
       "11"
      ]
     },
     "execution_count": 3,
     "metadata": {},
     "output_type": "execute_result"
    }
   ],
   "source": [
    "solution(maps)"
   ]
  },
  {
   "cell_type": "code",
   "execution_count": null,
   "id": "41db87ae-f5f0-4a39-8fed-116db5dce4ea",
   "metadata": {},
   "outputs": [],
   "source": []
  }
 ],
 "metadata": {
  "kernelspec": {
   "display_name": "Python 3 (ipykernel)",
   "language": "python",
   "name": "python3"
  },
  "language_info": {
   "codemirror_mode": {
    "name": "ipython",
    "version": 3
   },
   "file_extension": ".py",
   "mimetype": "text/x-python",
   "name": "python",
   "nbconvert_exporter": "python",
   "pygments_lexer": "ipython3",
   "version": "3.9.12"
  }
 },
 "nbformat": 4,
 "nbformat_minor": 5
}
