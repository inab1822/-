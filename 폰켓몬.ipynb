{
 "cells": [
  {
   "cell_type": "markdown",
   "id": "8e38987f-2281-4bbb-b709-da5f7326a92e",
   "metadata": {},
   "source": [
    "## 문제 설명\n",
    "- 당신은 폰켓몬을 잡기 위한 오랜 여행 끝에, 홍 박사님의 연구실에 도착했습니다. 홍 박사님은 당신에게 자신의 연구실에 있는 총 N 마리의 폰켓몬 중에서 N/2마리를 가져가도 좋다고 했습니다.\n",
    "- 홍 박사님 연구실의 폰켓몬은 종류에 따라 번호를 붙여 구분합니다. 따라서 같은 종류의 폰켓몬은 같은 번호를 가지고 있습니다. 예를 들어 연구실에 총 4마리의 폰켓몬이 있고, 각 폰켓몬의 종류 번호가 [3번, 1번, 2번, 3번]이라면 이는 3번 폰켓몬 두 마리, 1번 폰켓몬 한 마리, 2번 폰켓몬 한 마리가 있음을 나타냅니다. 이때, 4마리의 폰켓몬 중 2마리를 고르는 방법은 다음과 같이 6가지가 있습니다.\n",
    "\n",
    "1. 첫 번째(3번), 두 번째(1번) 폰켓몬을 선택\n",
    "2. 첫 번째(3번), 세 번째(2번) 폰켓몬을 선택\n",
    "3. 첫 번째(3번), 네 번째(3번) 폰켓몬을 선택\n",
    "4. 두 번째(1번), 세 번째(2번) 폰켓몬을 선택\n",
    "5. 두 번째(1번), 네 번째(3번) 폰켓몬을 선택\n",
    "6. 세 번째(2번), 네 번째(3번) 폰켓몬을 선택\n",
    "- 이때, 첫 번째(3번) 폰켓몬과 네 번째(3번) 폰켓몬을 선택하는 방법은 한 종류(3번 폰켓몬 두 마리)의 폰켓몬만 가질 수 있지만, 다른 방법들은 모두 두 종류의 폰켓몬을 가질 수 있습니다. 따라서 위 예시에서 가질 수 있는 폰켓몬 종류 수의 최댓값은 2가 됩니다.\n",
    "- 당신은 최대한 다양한 종류의 폰켓몬을 가지길 원하기 때문에, 최대한 많은 종류의 폰켓몬을 포함해서 N/2마리를 선택하려 합니다. N마리 폰켓몬의 종류 번호가 담긴 배열 nums가 매개변수로 주어질 때, N/2마리의 폰켓몬을 선택하는 방법 중, 가장 많은 종류의 폰켓몬을 선택하는 방법을 찾아, 그때의 폰켓몬 종류 번호의 개수를 return 하도록 solution 함수를 완성해주세요."
   ]
  },
  {
   "cell_type": "markdown",
   "id": "7d77bfbb-852e-4d77-9211-0dae4e16c429",
   "metadata": {},
   "source": [
    "## 제한사항\n",
    "- nums는 폰켓몬의 종류 번호가 담긴 1차원 배열입니다.\n",
    "- nums의 길이(N)는 1 이상 10,000 이하의 자연수이며, 항상 짝수로 주어집니다.\n",
    "- 폰켓몬의 종류 번호는 1 이상 200,000 이하의 자연수로 나타냅니다.\n",
    "- 가장 많은 종류의 폰켓몬을 선택하는 방법이 여러 가지인 경우에도, 선택할 수 있는 폰켓몬 종류 개수의 최댓값 하나만 return 하면 됩니다."
   ]
  },
  {
   "attachments": {
    "2d92490e-bdf8-4a47-9f6e-334d6956c882.png": {
     "image/png": "[encoded data removed]"
    }
   },
   "cell_type": "markdown",
   "id": "ed3d031b-0ff5-448f-ba05-49027acaffd5",
   "metadata": {},
   "source": [
    "![image.png](attachment:2d92490e-bdf8-4a47-9f6e-334d6956c882.png)"
   ]
  },
  {
   "cell_type": "code",
   "execution_count": 27,
   "id": "d38264f1-4d00-42ac-b163-54b24242fa5d",
   "metadata": {},
   "outputs": [],
   "source": [
    "# 입출력 예시중 하나를 nums로 둔다.\n",
    "nums = [3,1,2,3]\n",
    "# 출력 값은 2가 나와야한다."
   ]
  },
  {
   "cell_type": "code",
   "execution_count": 28,
   "id": "621233dd-f6b7-4958-930e-92c4f5e70b08",
   "metadata": {},
   "outputs": [],
   "source": [
    "def solution(nums):\n",
    "    answer = 0\n",
    "    \n",
    "    # 우선 골라야할 포켓몬 수를 구한다.\n",
    "    # nums의 길이에 2를 나누어 'l'에 할당.\n",
    "    l = int(len(nums) / 2)\n",
    "    \n",
    "    # 집합데이터에인 set를 활용하여\n",
    "    # nums에 중복을 제거 후 길이를 nums_set에 할당\n",
    "    nums_set = len(set(nums))\n",
    "    \n",
    "    # if 문으로 l과 nums_set을 비교하여\n",
    "    # 더 큰 값을 answer에 할당한다.\n",
    "    if l < nums_set:\n",
    "        answer = l\n",
    "    elif l > nums_set:\n",
    "        answer = nums_set\n",
    "    else:\n",
    "        answer = l\n",
    "        \n",
    "            \n",
    "    return answer"
   ]
  },
  {
   "cell_type": "code",
   "execution_count": 29,
   "id": "226a0fe9-2298-4ea1-91d2-fb78c8eb9a44",
   "metadata": {},
   "outputs": [
    {
     "data": {
      "text/plain": [
       "2"
      ]
     },
     "execution_count": 29,
     "metadata": {},
     "output_type": "execute_result"
    }
   ],
   "source": [
    "# 함수를 실행해 보자\n",
    "solution(nums)"
   ]
  },
  {
   "cell_type": "markdown",
   "id": "91ccb3fc-614f-4527-b9a6-556f43fe58aa",
   "metadata": {},
   "source": [
    "#### 다른 예시도 출력해보자."
   ]
  },
  {
   "cell_type": "code",
   "execution_count": 30,
   "id": "66902f08-a30b-4d4e-8b96-42d7712b1f26",
   "metadata": {},
   "outputs": [],
   "source": [
    "nums = [3,1,2,3]\n",
    "nums1 = [3,3,3,2,2,4]\n",
    "nums2 = [3,3,3,2,2,2]"
   ]
  },
  {
   "cell_type": "code",
   "execution_count": 31,
   "id": "1535f11a-4531-4fdf-9c23-df881892214e",
   "metadata": {},
   "outputs": [
    {
     "name": "stdout",
     "output_type": "stream",
     "text": [
      "2\n",
      "3\n",
      "2\n"
     ]
    }
   ],
   "source": [
    "print(solution(nums))\n",
    "print(solution(nums1))\n",
    "print(solution(nums2))"
   ]
  },
  {
   "cell_type": "markdown",
   "id": "1b5edea7-eb2b-4298-abb2-c53cb03d00e8",
   "metadata": {},
   "source": [
    "## 예상 값이 정상 출력된다."
   ]
  },
  {
   "cell_type": "markdown",
   "id": "af6fb607-ffb4-49e4-bd59-55a00352d28c",
   "metadata": {},
   "source": [
    "## 다른 사람의 풀이"
   ]
  },
  {
   "cell_type": "code",
   "execution_count": 34,
   "id": "61d9425a-97e8-4721-9344-9ffe14c08bbf",
   "metadata": {},
   "outputs": [],
   "source": [
    "ls = [3,1,2,3]\n",
    "ls1 = [3,3,3,2,2,4]\n",
    "ls2 = [3,3,3,2,2,2]"
   ]
  },
  {
   "cell_type": "code",
   "execution_count": 33,
   "id": "dc1881d3-5477-40ce-9b20-08b40574e62b",
   "metadata": {},
   "outputs": [],
   "source": [
    "def solution(ls):\n",
    "    # ls의 절반의 길이와, ls의 중복을 제거한 set의 길이를 비교해\n",
    "    # min 값으로 적은 값을 반환한다\n",
    "    return min(len(ls)/2, len(set(ls)))"
   ]
  },
  {
   "cell_type": "code",
   "execution_count": 35,
   "id": "2924f9ed-16fd-41ac-a403-2b4465799101",
   "metadata": {},
   "outputs": [
    {
     "name": "stdout",
     "output_type": "stream",
     "text": [
      "2.0\n",
      "3.0\n",
      "2\n"
     ]
    }
   ],
   "source": [
    "print(solution(ls))\n",
    "print(solution(ls1))\n",
    "print(solution(ls2))"
   ]
  },
  {
   "cell_type": "markdown",
   "id": "ccd7b16a-29c4-4df4-8bbd-b0a2502cc0ba",
   "metadata": {},
   "source": [
    "## 정상 출력 된다."
   ]
  },
  {
   "cell_type": "code",
   "execution_count": null,
   "id": "199be185-a7e7-4d52-95b9-92e0b4f6013a",
   "metadata": {},
   "outputs": [],
   "source": []
  }
 ],
 "metadata": {
  "kernelspec": {
   "display_name": "Python 3 (ipykernel)",
   "language": "python",
   "name": "python3"
  },
  "language_info": {
   "codemirror_mode": {
    "name": "ipython",
    "version": 3
   },
   "file_extension": ".py",
   "mimetype": "text/x-python",
   "name": "python",
   "nbconvert_exporter": "python",
   "pygments_lexer": "ipython3",
   "version": "3.9.12"
  }
 },
 "nbformat": 4,
 "nbformat_minor": 5
}
